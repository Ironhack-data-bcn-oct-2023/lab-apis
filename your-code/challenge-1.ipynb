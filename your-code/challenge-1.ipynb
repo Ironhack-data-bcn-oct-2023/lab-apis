{
 "cells": [
  {
   "cell_type": "markdown",
   "id": "b25842d6",
   "metadata": {},
   "source": [
    "# Import the necessary libraries: pandas & requests"
   ]
  },
  {
   "cell_type": "code",
   "execution_count": 106,
   "id": "215eb6bc",
   "metadata": {},
   "outputs": [],
   "source": [
    "import pandas as pd\n",
    "import requests\n",
    "import datetime"
   ]
  },
  {
   "cell_type": "markdown",
   "id": "416a4caf",
   "metadata": {},
   "source": [
    "# Go on to this website: `https://kinduff.github.io/dog-api/`. Read the docs. "
   ]
  },
  {
   "cell_type": "markdown",
   "id": "bb949a18",
   "metadata": {},
   "source": [
    "## Build the `url_for_request`. This will be the result of: reading the docs 🙃. "
   ]
  },
  {
   "cell_type": "markdown",
   "id": "543e6c0d",
   "metadata": {},
   "source": [
    "Hint: there's a `base_url` to which you need to add another `endpoint`. Call the resulting string `url_for_request`"
   ]
  },
  {
   "cell_type": "code",
   "execution_count": 107,
   "id": "8c147eb7",
   "metadata": {},
   "outputs": [],
   "source": [
    "# base_url\n",
    "base_url = \"http://dog-api.kinduff.com\""
   ]
  },
  {
   "cell_type": "code",
   "execution_count": 108,
   "id": "c503211c",
   "metadata": {},
   "outputs": [],
   "source": [
    "# endpoint \n",
    "endpoint = \"/api/facts\""
   ]
  },
  {
   "cell_type": "code",
   "execution_count": 109,
   "id": "e8563709",
   "metadata": {},
   "outputs": [],
   "source": [
    "url_for_request = base_url + endpoint"
   ]
  },
  {
   "cell_type": "markdown",
   "id": "c5f33f0f",
   "metadata": {},
   "source": [
    "# Do one request using the `url_for_request`. Make sure it's read as a json."
   ]
  },
  {
   "cell_type": "code",
   "execution_count": 110,
   "id": "311d0c28",
   "metadata": {},
   "outputs": [
    {
     "data": {
      "text/plain": [
       "{'facts': ['George Washington had 36 dogs–all Foxhounds–with one named Sweetlips.'],\n",
       " 'success': True}"
      ]
     },
     "execution_count": 110,
     "metadata": {},
     "output_type": "execute_result"
    }
   ],
   "source": [
    "request = requests.get(url_for_request)\n",
    "request.json()"
   ]
  },
  {
   "cell_type": "markdown",
   "id": "1bfb3a80",
   "metadata": {},
   "source": [
    "# Great! Now: encapsulate"
   ]
  },
  {
   "cell_type": "markdown",
   "id": "d72434d8",
   "metadata": {},
   "source": [
    "- Create a function whith the name: `request_dog_facts`\n",
    "- It should not take any argument\n",
    "- It should return one dictionary with the information requested\n"
   ]
  },
  {
   "cell_type": "code",
   "execution_count": 111,
   "id": "e7dc2129",
   "metadata": {},
   "outputs": [],
   "source": [
    "def request_dog_facts():\n",
    "  base_url = \"http://dog-api.kinduff.com\"\n",
    "  endpoint = \"/api/facts\"\n",
    "  url_for_request = base_url + endpoint\n",
    "  response = requests.get(url_for_request)\n",
    "  try:\n",
    "    response = requests.get(url_for_request)\n",
    "    return response.json()\n",
    "  except requests.exceptions.HTTPError as e:\n",
    "    print(f\"Request failed with status code: {e.response.status_code}\")"
   ]
  },
  {
   "cell_type": "markdown",
   "id": "5c01f4ce",
   "metadata": {},
   "source": [
    "# APIs may be faulty when requesting many times: make sure you implement a try & except to cover for that."
   ]
  },
  {
   "cell_type": "markdown",
   "id": "ae0d7596",
   "metadata": {},
   "source": [
    "If the request doesn't work, make sure you return a message"
   ]
  },
  {
   "cell_type": "code",
   "execution_count": 112,
   "id": "9263e7c8",
   "metadata": {},
   "outputs": [
    {
     "data": {
      "text/plain": [
       "{'facts': ['The Labrador Retriever is the #1 favorite breed in the U.S., Canada, and the U.K.'],\n",
       " 'success': True}"
      ]
     },
     "execution_count": 112,
     "metadata": {},
     "output_type": "execute_result"
    }
   ],
   "source": [
    "request_dog_facts()"
   ]
  },
  {
   "cell_type": "markdown",
   "id": "b201a536",
   "metadata": {},
   "source": [
    "# We now want to get as the day of the month today: eg.: if current month is october we'll make 10  requests"
   ]
  },
  {
   "cell_type": "markdown",
   "id": "b9ee1515",
   "metadata": {},
   "source": [
    "Create a variable called `current_month`. Using the imported library in the first cell, save today's day."
   ]
  },
  {
   "cell_type": "code",
   "execution_count": 113,
   "id": "1e7947fe",
   "metadata": {},
   "outputs": [
    {
     "name": "stdout",
     "output_type": "stream",
     "text": [
      "Current Month: 10\n",
      "Current Month: 27\n"
     ]
    },
    {
     "data": {
      "text/plain": [
       "int"
      ]
     },
     "execution_count": 113,
     "metadata": {},
     "output_type": "execute_result"
    }
   ],
   "source": [
    "current_month = datetime.datetime.now().month\n",
    "current_day = datetime.datetime.now().day\n",
    "\n",
    "print(\"Current Month:\", current_month)\n",
    "print(\"Current Month:\", current_day)\n",
    "type(current_month)"
   ]
  },
  {
   "cell_type": "markdown",
   "id": "79f81f5f",
   "metadata": {},
   "source": [
    "# If `todays_date` is 27, create a list with 27 dictionaries reusing the function you just created: `request_dog_facts`. List should be called: `dogs_facts`. Do this using a comprehension list"
   ]
  },
  {
   "cell_type": "code",
   "execution_count": 114,
   "id": "731959ec",
   "metadata": {},
   "outputs": [
    {
     "data": {
      "text/plain": [
       "[{'facts': ['Many foot disorders in dogs are caused by long toenails.'],\n",
       "  'success': True},\n",
       " {'facts': [\"Just like human fingerprints, no two dogs' nose prints are alike.\"],\n",
       "  'success': True},\n",
       " {'facts': ['Two stray dogs in Afghanistan saved 50 American soliders. A Facebook group raised $21,000 to bring the dogs back to the US and reunite them with the soldiers.'],\n",
       "  'success': True},\n",
       " {'facts': ['The border collie or sheep dog is often considered to be the most intelligent breed of dog some of them have been trained to recognize the words for up to 1,000 objects and retrieved them by verbal command.'],\n",
       "  'success': True},\n",
       " {'facts': ['Male dogs have a bone in their penis.'], 'success': True},\n",
       " {'facts': ['The most popular breed of domestic dog in the US and the UK is the Labrador Retriever.'],\n",
       "  'success': True},\n",
       " {'facts': ['A dog’s vision is not fully developed until after the first month.'],\n",
       "  'success': True},\n",
       " {'facts': ['Dogs are natural pack animals.'], 'success': True},\n",
       " {'facts': ['The Russians trained dogs during WWII to run suicide missions with mines strapped to their backs.'],\n",
       "  'success': True},\n",
       " {'facts': ['Paul McCartney of the Beatles recorded a high pitched whistle at the end of \"A Day in the Life\" for his dog.'],\n",
       "  'success': True}]"
      ]
     },
     "execution_count": 114,
     "metadata": {},
     "output_type": "execute_result"
    }
   ],
   "source": [
    "facts_per_month = [request_dog_facts() for _ in range(current_month)]\n",
    "facts_per_month"
   ]
  },
  {
   "cell_type": "code",
   "execution_count": null,
   "id": "03abdfef",
   "metadata": {},
   "outputs": [],
   "source": []
  },
  {
   "cell_type": "markdown",
   "id": "ec3a47d4",
   "metadata": {},
   "source": [
    "# Build a DF. You have a list of dictionaries, should be easy!"
   ]
  },
  {
   "cell_type": "code",
   "execution_count": 115,
   "id": "d22652ed",
   "metadata": {},
   "outputs": [],
   "source": [
    "monthly_dog_fact = pd.DataFrame(facts_per_month)"
   ]
  },
  {
   "cell_type": "code",
   "execution_count": 116,
   "id": "60d0ef28",
   "metadata": {},
   "outputs": [
    {
     "data": {
      "text/html": [
       "<div>\n",
       "<style scoped>\n",
       "    .dataframe tbody tr th:only-of-type {\n",
       "        vertical-align: middle;\n",
       "    }\n",
       "\n",
       "    .dataframe tbody tr th {\n",
       "        vertical-align: top;\n",
       "    }\n",
       "\n",
       "    .dataframe thead th {\n",
       "        text-align: right;\n",
       "    }\n",
       "</style>\n",
       "<table border=\"1\" class=\"dataframe\">\n",
       "  <thead>\n",
       "    <tr style=\"text-align: right;\">\n",
       "      <th></th>\n",
       "      <th>facts</th>\n",
       "      <th>success</th>\n",
       "    </tr>\n",
       "  </thead>\n",
       "  <tbody>\n",
       "    <tr>\n",
       "      <th>0</th>\n",
       "      <td>[Many foot disorders in dogs are caused by lon...</td>\n",
       "      <td>True</td>\n",
       "    </tr>\n",
       "    <tr>\n",
       "      <th>1</th>\n",
       "      <td>[Just like human fingerprints, no two dogs' no...</td>\n",
       "      <td>True</td>\n",
       "    </tr>\n",
       "    <tr>\n",
       "      <th>2</th>\n",
       "      <td>[Two stray dogs in Afghanistan saved 50 Americ...</td>\n",
       "      <td>True</td>\n",
       "    </tr>\n",
       "    <tr>\n",
       "      <th>3</th>\n",
       "      <td>[The border collie or sheep dog is often consi...</td>\n",
       "      <td>True</td>\n",
       "    </tr>\n",
       "    <tr>\n",
       "      <th>4</th>\n",
       "      <td>[Male dogs have a bone in their penis.]</td>\n",
       "      <td>True</td>\n",
       "    </tr>\n",
       "    <tr>\n",
       "      <th>5</th>\n",
       "      <td>[The most popular breed of domestic dog in the...</td>\n",
       "      <td>True</td>\n",
       "    </tr>\n",
       "    <tr>\n",
       "      <th>6</th>\n",
       "      <td>[A dog’s vision is not fully developed until a...</td>\n",
       "      <td>True</td>\n",
       "    </tr>\n",
       "    <tr>\n",
       "      <th>7</th>\n",
       "      <td>[Dogs are natural pack animals.]</td>\n",
       "      <td>True</td>\n",
       "    </tr>\n",
       "    <tr>\n",
       "      <th>8</th>\n",
       "      <td>[The Russians trained dogs during WWII to run ...</td>\n",
       "      <td>True</td>\n",
       "    </tr>\n",
       "    <tr>\n",
       "      <th>9</th>\n",
       "      <td>[Paul McCartney of the Beatles recorded a high...</td>\n",
       "      <td>True</td>\n",
       "    </tr>\n",
       "  </tbody>\n",
       "</table>\n",
       "</div>"
      ],
      "text/plain": [
       "                                               facts  success\n",
       "0  [Many foot disorders in dogs are caused by lon...     True\n",
       "1  [Just like human fingerprints, no two dogs' no...     True\n",
       "2  [Two stray dogs in Afghanistan saved 50 Americ...     True\n",
       "3  [The border collie or sheep dog is often consi...     True\n",
       "4            [Male dogs have a bone in their penis.]     True\n",
       "5  [The most popular breed of domestic dog in the...     True\n",
       "6  [A dog’s vision is not fully developed until a...     True\n",
       "7                   [Dogs are natural pack animals.]     True\n",
       "8  [The Russians trained dogs during WWII to run ...     True\n",
       "9  [Paul McCartney of the Beatles recorded a high...     True"
      ]
     },
     "execution_count": 116,
     "metadata": {},
     "output_type": "execute_result"
    }
   ],
   "source": [
    "monthly_dog_fact"
   ]
  },
  {
   "cell_type": "markdown",
   "id": "9f401ae3",
   "metadata": {},
   "source": [
    "# Modify the previous table, using a lambda function, so you modify the column data to have the same column but with the element instead of the list with that one element"
   ]
  },
  {
   "cell_type": "code",
   "execution_count": 117,
   "id": "b29f4826",
   "metadata": {},
   "outputs": [
    {
     "data": {
      "text/html": [
       "<div>\n",
       "<style scoped>\n",
       "    .dataframe tbody tr th:only-of-type {\n",
       "        vertical-align: middle;\n",
       "    }\n",
       "\n",
       "    .dataframe tbody tr th {\n",
       "        vertical-align: top;\n",
       "    }\n",
       "\n",
       "    .dataframe thead th {\n",
       "        text-align: right;\n",
       "    }\n",
       "</style>\n",
       "<table border=\"1\" class=\"dataframe\">\n",
       "  <thead>\n",
       "    <tr style=\"text-align: right;\">\n",
       "      <th></th>\n",
       "      <th>facts</th>\n",
       "      <th>success</th>\n",
       "    </tr>\n",
       "  </thead>\n",
       "  <tbody>\n",
       "    <tr>\n",
       "      <th>0</th>\n",
       "      <td>Many foot disorders in dogs are caused by long...</td>\n",
       "      <td>True</td>\n",
       "    </tr>\n",
       "    <tr>\n",
       "      <th>1</th>\n",
       "      <td>Just like human fingerprints, no two dogs' nos...</td>\n",
       "      <td>True</td>\n",
       "    </tr>\n",
       "    <tr>\n",
       "      <th>2</th>\n",
       "      <td>Two stray dogs in Afghanistan saved 50 America...</td>\n",
       "      <td>True</td>\n",
       "    </tr>\n",
       "    <tr>\n",
       "      <th>3</th>\n",
       "      <td>The border collie or sheep dog is often consid...</td>\n",
       "      <td>True</td>\n",
       "    </tr>\n",
       "    <tr>\n",
       "      <th>4</th>\n",
       "      <td>Male dogs have a bone in their penis.</td>\n",
       "      <td>True</td>\n",
       "    </tr>\n",
       "    <tr>\n",
       "      <th>5</th>\n",
       "      <td>The most popular breed of domestic dog in the ...</td>\n",
       "      <td>True</td>\n",
       "    </tr>\n",
       "    <tr>\n",
       "      <th>6</th>\n",
       "      <td>A dog’s vision is not fully developed until af...</td>\n",
       "      <td>True</td>\n",
       "    </tr>\n",
       "    <tr>\n",
       "      <th>7</th>\n",
       "      <td>Dogs are natural pack animals.</td>\n",
       "      <td>True</td>\n",
       "    </tr>\n",
       "    <tr>\n",
       "      <th>8</th>\n",
       "      <td>The Russians trained dogs during WWII to run s...</td>\n",
       "      <td>True</td>\n",
       "    </tr>\n",
       "    <tr>\n",
       "      <th>9</th>\n",
       "      <td>Paul McCartney of the Beatles recorded a high ...</td>\n",
       "      <td>True</td>\n",
       "    </tr>\n",
       "  </tbody>\n",
       "</table>\n",
       "</div>"
      ],
      "text/plain": [
       "                                               facts  success\n",
       "0  Many foot disorders in dogs are caused by long...     True\n",
       "1  Just like human fingerprints, no two dogs' nos...     True\n",
       "2  Two stray dogs in Afghanistan saved 50 America...     True\n",
       "3  The border collie or sheep dog is often consid...     True\n",
       "4              Male dogs have a bone in their penis.     True\n",
       "5  The most popular breed of domestic dog in the ...     True\n",
       "6  A dog’s vision is not fully developed until af...     True\n",
       "7                     Dogs are natural pack animals.     True\n",
       "8  The Russians trained dogs during WWII to run s...     True\n",
       "9  Paul McCartney of the Beatles recorded a high ...     True"
      ]
     },
     "execution_count": 117,
     "metadata": {},
     "output_type": "execute_result"
    }
   ],
   "source": [
    "monthly_dog_fact[\"facts\"] = monthly_dog_fact[\"facts\"].apply(lambda x: x[0]) # (lambda x: str(x)) also works\n",
    "monthly_dog_fact"
   ]
  },
  {
   "cell_type": "markdown",
   "id": "d3fb564c",
   "metadata": {},
   "source": [
    "# Save the dataframe into the data folder. "
   ]
  },
  {
   "cell_type": "markdown",
   "id": "2b334e3d",
   "metadata": {},
   "source": [
    "Make sure you don't get that unnamed: 0 column. Hint: https://stackoverflow.com/questions/36519086/how-to-get-rid-of-unnamed-0-column-in-a-pandas-dataframe-read-in-from-csv-fil"
   ]
  },
  {
   "cell_type": "code",
   "execution_count": 118,
   "id": "ca21a372",
   "metadata": {},
   "outputs": [],
   "source": [
    "monthly_dog_fact.to_csv(\"../data/monthly_dog_facts.csv\", index=False)"
   ]
  }
 ],
 "metadata": {
  "kernelspec": {
   "display_name": "ironhack",
   "language": "python",
   "name": "python3"
  },
  "language_info": {
   "codemirror_mode": {
    "name": "ipython",
    "version": 3
   },
   "file_extension": ".py",
   "mimetype": "text/x-python",
   "name": "python",
   "nbconvert_exporter": "python",
   "pygments_lexer": "ipython3",
   "version": "3.11.5"
  },
  "nbTranslate": {
   "displayLangs": [
    "en",
    "es"
   ],
   "hotkey": "alt-a",
   "langInMainMenu": true,
   "sourceLang": "es",
   "targetLang": "en",
   "useGoogleTranslate": true
  },
  "toc": {
   "base_numbering": 1,
   "nav_menu": {},
   "number_sections": true,
   "sideBar": true,
   "skip_h1_title": false,
   "title_cell": "Table of Contents",
   "title_sidebar": "Contents",
   "toc_cell": false,
   "toc_position": {},
   "toc_section_display": true,
   "toc_window_display": false
  }
 },
 "nbformat": 4,
 "nbformat_minor": 5
}
