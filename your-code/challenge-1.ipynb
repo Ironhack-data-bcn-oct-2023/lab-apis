{
 "cells": [
  {
   "cell_type": "markdown",
   "id": "b25842d6",
   "metadata": {},
   "source": [
    "# Import the necessary libraries: pandas & requests"
   ]
  },
  {
   "cell_type": "code",
   "execution_count": 17,
   "id": "215eb6bc",
   "metadata": {},
   "outputs": [],
   "source": [
    "import pandas as pd\n",
    "import requests\n",
    "from datetime import date\n",
    "\n"
   ]
  },
  {
   "cell_type": "markdown",
   "id": "416a4caf",
   "metadata": {},
   "source": [
    "# Go on to this website: `https://kinduff.github.io/dog-api/`. Read the docs. "
   ]
  },
  {
   "cell_type": "markdown",
   "id": "bb949a18",
   "metadata": {},
   "source": [
    "## Build the `url_for_request`. This will be the result of: reading the docs 🙃. "
   ]
  },
  {
   "cell_type": "markdown",
   "id": "543e6c0d",
   "metadata": {},
   "source": [
    "Hint: there's a `base_url` to which you need to add another `endpoint`. Call the resulting string `url_for_request`"
   ]
  },
  {
   "cell_type": "code",
   "execution_count": 2,
   "id": "8c147eb7",
   "metadata": {},
   "outputs": [],
   "source": [
    "# Your code here\n",
    "# base_url\n",
    "\n",
    "base_url = \"http://dog-api.kinduff.com\""
   ]
  },
  {
   "cell_type": "code",
   "execution_count": 3,
   "id": "c503211c",
   "metadata": {},
   "outputs": [],
   "source": [
    "# Your code here\n",
    "# endpoint \n",
    "end_point = \"/api/facts\""
   ]
  },
  {
   "cell_type": "code",
   "execution_count": 6,
   "id": "e8563709",
   "metadata": {},
   "outputs": [],
   "source": [
    "# Your code here\n",
    "base_url = \"http://dog-api.kinduff.com\"\n",
    "end_point = \"/api/facts\"\n",
    "url = base_url + end_point\n",
    "res = requests.get(url)\n"
   ]
  },
  {
   "cell_type": "markdown",
   "id": "c5f33f0f",
   "metadata": {},
   "source": [
    "# Do one request using the `url_for_request`. Make sure it's read as a json."
   ]
  },
  {
   "cell_type": "code",
   "execution_count": 7,
   "id": "311d0c28",
   "metadata": {},
   "outputs": [
    {
     "data": {
      "text/plain": [
       "{'facts': ['In Old England, the word \"hound\" was used to refer to all types of dogs.'],\n",
       " 'success': True}"
      ]
     },
     "execution_count": 7,
     "metadata": {},
     "output_type": "execute_result"
    }
   ],
   "source": [
    "# Your code here\n",
    "res.json()"
   ]
  },
  {
   "cell_type": "markdown",
   "id": "1bfb3a80",
   "metadata": {},
   "source": [
    "# Great! Now: encapsulate"
   ]
  },
  {
   "cell_type": "markdown",
   "id": "d72434d8",
   "metadata": {},
   "source": [
    "- Create a function whith the name: `request_dog_facts`\n",
    "- It should not take any argument\n",
    "- It should return one dictionary with the information requested\n"
   ]
  },
  {
   "cell_type": "code",
   "execution_count": 28,
   "id": "e7dc2129",
   "metadata": {},
   "outputs": [
    {
     "data": {
      "text/plain": [
       "{'facts': ['Only dogs and humans have prostates.'], 'success': True}"
      ]
     },
     "execution_count": 28,
     "metadata": {},
     "output_type": "execute_result"
    }
   ],
   "source": [
    "# Your code here\n",
    "def request_dog_facts():\n",
    "    base_url = \"http://dog-api.kinduff.com\"\n",
    "    end_point = \"/api/facts\"\n",
    "    url = base_url + end_point\n",
    "    res = requests.get(url)\n",
    "    json = res.json()\n",
    "    return json#[\"facts\"]\n",
    "\n",
    "request_dog_facts()"
   ]
  },
  {
   "cell_type": "markdown",
   "id": "5c01f4ce",
   "metadata": {},
   "source": [
    "# APIs may be faulty when requesting many times: make sure you implement a try & except to cover for that."
   ]
  },
  {
   "cell_type": "markdown",
   "id": "ae0d7596",
   "metadata": {},
   "source": [
    "If the request doesn't work, make sure you return a message"
   ]
  },
  {
   "cell_type": "code",
   "execution_count": 31,
   "id": "9263e7c8",
   "metadata": {},
   "outputs": [
    {
     "data": {
      "text/plain": [
       "{'facts': ['Bingo is the name of the dog on the box of Cracker Jacks.'],\n",
       " 'success': True}"
      ]
     },
     "execution_count": 31,
     "metadata": {},
     "output_type": "execute_result"
    }
   ],
   "source": [
    "# your code here\n",
    "def request_dog_facts():\n",
    "    try:\n",
    "        base_url = \"http://dog-api.kinduff.com\"\n",
    "        end_point = \"/api/facts\"\n",
    "        url = base_url + end_point\n",
    "        res = requests.get(url)\n",
    "        json = res.json()\n",
    "        return json[\"facts\"]\n",
    "    except:\n",
    "        pass\n",
    "\n",
    "request_dog_facts()\n"
   ]
  },
  {
   "cell_type": "markdown",
   "id": "b201a536",
   "metadata": {},
   "source": [
    "# We now want to get as the day of the month today: eg.: if current month is october we'll make 10  requests"
   ]
  },
  {
   "cell_type": "markdown",
   "id": "b9ee1515",
   "metadata": {},
   "source": [
    "Create a variable called `current_month`. Using the imported library in the first cell, save today's day."
   ]
  },
  {
   "cell_type": "code",
   "execution_count": 22,
   "id": "1e7947fe",
   "metadata": {},
   "outputs": [
    {
     "data": {
      "text/plain": [
       "27"
      ]
     },
     "execution_count": 22,
     "metadata": {},
     "output_type": "execute_result"
    }
   ],
   "source": [
    "# Your code here\n",
    "from datetime import date\n",
    "\n",
    "current_month = date.today().month"
   ]
  },
  {
   "cell_type": "markdown",
   "id": "79f81f5f",
   "metadata": {},
   "source": [
    "# If `todays_date` is 27, create a list with 27 dictionaries reusing the function you just created: `request_dog_facts`. List should be called: `dogs_facts`. Do this using a comprehension list"
   ]
  },
  {
   "cell_type": "code",
   "execution_count": 32,
   "id": "731959ec",
   "metadata": {},
   "outputs": [],
   "source": [
    "# Your code here\n",
    "current_day = date.today().day\n",
    "\n",
    "dogs_facts = [request_dog_facts() for i in range(current_day)]"
   ]
  },
  {
   "cell_type": "markdown",
   "id": "ec3a47d4",
   "metadata": {},
   "source": [
    "# Build a DF. You have a list of dictionaries, should be easy!"
   ]
  },
  {
   "cell_type": "code",
   "execution_count": 39,
   "id": "d22652ed",
   "metadata": {},
   "outputs": [
    {
     "data": {
      "text/html": [
       "<div>\n",
       "<style scoped>\n",
       "    .dataframe tbody tr th:only-of-type {\n",
       "        vertical-align: middle;\n",
       "    }\n",
       "\n",
       "    .dataframe tbody tr th {\n",
       "        vertical-align: top;\n",
       "    }\n",
       "\n",
       "    .dataframe thead th {\n",
       "        text-align: right;\n",
       "    }\n",
       "</style>\n",
       "<table border=\"1\" class=\"dataframe\">\n",
       "  <thead>\n",
       "    <tr style=\"text-align: right;\">\n",
       "      <th></th>\n",
       "      <th>facts</th>\n",
       "      <th>success</th>\n",
       "    </tr>\n",
       "  </thead>\n",
       "  <tbody>\n",
       "    <tr>\n",
       "      <th>0</th>\n",
       "      <td>[It’s been demonstrated that dogs can reduce b...</td>\n",
       "      <td>True</td>\n",
       "    </tr>\n",
       "    <tr>\n",
       "      <th>1</th>\n",
       "      <td>[The Beagle came into prominence in the 1300s ...</td>\n",
       "      <td>True</td>\n",
       "    </tr>\n",
       "    <tr>\n",
       "      <th>2</th>\n",
       "      <td>[Police dogs can smell human bodies even when ...</td>\n",
       "      <td>True</td>\n",
       "    </tr>\n",
       "    <tr>\n",
       "      <th>3</th>\n",
       "      <td>[Baks the blind boxer has a seeing eye goose n...</td>\n",
       "      <td>True</td>\n",
       "    </tr>\n",
       "    <tr>\n",
       "      <th>4</th>\n",
       "      <td>[The Girl Scouts and Boy Scouts both offer mer...</td>\n",
       "      <td>True</td>\n",
       "    </tr>\n",
       "    <tr>\n",
       "      <th>5</th>\n",
       "      <td>[Within hours of the September 11, 2001, attac...</td>\n",
       "      <td>True</td>\n",
       "    </tr>\n",
       "    <tr>\n",
       "      <th>6</th>\n",
       "      <td>[A dog's sense of smell is 10,000 times strong...</td>\n",
       "      <td>True</td>\n",
       "    </tr>\n",
       "    <tr>\n",
       "      <th>7</th>\n",
       "      <td>[Teams of dogs compete for the fastest time wi...</td>\n",
       "      <td>True</td>\n",
       "    </tr>\n",
       "    <tr>\n",
       "      <th>8</th>\n",
       "      <td>[The Labrador Retriever is the #1 favorite bre...</td>\n",
       "      <td>True</td>\n",
       "    </tr>\n",
       "    <tr>\n",
       "      <th>9</th>\n",
       "      <td>[Dogs are all direct descendants of wolves.]</td>\n",
       "      <td>True</td>\n",
       "    </tr>\n",
       "    <tr>\n",
       "      <th>10</th>\n",
       "      <td>[In Egypt, a person bitten by a rabid dog was ...</td>\n",
       "      <td>True</td>\n",
       "    </tr>\n",
       "    <tr>\n",
       "      <th>11</th>\n",
       "      <td>[Two stray dogs in Afghanistan saved 50 Americ...</td>\n",
       "      <td>True</td>\n",
       "    </tr>\n",
       "    <tr>\n",
       "      <th>12</th>\n",
       "      <td>[The breed Lundehune has 6 toes and can close ...</td>\n",
       "      <td>True</td>\n",
       "    </tr>\n",
       "    <tr>\n",
       "      <th>13</th>\n",
       "      <td>[The Beatles song \"A day in the Life\" has an e...</td>\n",
       "      <td>True</td>\n",
       "    </tr>\n",
       "    <tr>\n",
       "      <th>14</th>\n",
       "      <td>[The earliest dog fossil dates back to nearly ...</td>\n",
       "      <td>True</td>\n",
       "    </tr>\n",
       "    <tr>\n",
       "      <th>15</th>\n",
       "      <td>[Eighteen muscles or more can move a dog’s ear.]</td>\n",
       "      <td>True</td>\n",
       "    </tr>\n",
       "    <tr>\n",
       "      <th>16</th>\n",
       "      <td>[Pit bulls have been given a bad rap. BADRAP w...</td>\n",
       "      <td>True</td>\n",
       "    </tr>\n",
       "    <tr>\n",
       "      <th>17</th>\n",
       "      <td>[The Labrador Retriever has been the most popu...</td>\n",
       "      <td>True</td>\n",
       "    </tr>\n",
       "    <tr>\n",
       "      <th>18</th>\n",
       "      <td>[The Berger Picard, Miniature American Shepher...</td>\n",
       "      <td>True</td>\n",
       "    </tr>\n",
       "    <tr>\n",
       "      <th>19</th>\n",
       "      <td>[Dogs are natural pack animals.]</td>\n",
       "      <td>True</td>\n",
       "    </tr>\n",
       "    <tr>\n",
       "      <th>20</th>\n",
       "      <td>[President Franklin Roosevelt created a minor ...</td>\n",
       "      <td>True</td>\n",
       "    </tr>\n",
       "    <tr>\n",
       "      <th>21</th>\n",
       "      <td>[Dogs sleep for an average of 10 hours per day.]</td>\n",
       "      <td>True</td>\n",
       "    </tr>\n",
       "    <tr>\n",
       "      <th>22</th>\n",
       "      <td>[There are nearly 14,000 animal shelters and r...</td>\n",
       "      <td>True</td>\n",
       "    </tr>\n",
       "    <tr>\n",
       "      <th>23</th>\n",
       "      <td>[More than 1 in 3 American families own a dog.]</td>\n",
       "      <td>True</td>\n",
       "    </tr>\n",
       "    <tr>\n",
       "      <th>24</th>\n",
       "      <td>[A dog’s sense of smell is more than 100,000 t...</td>\n",
       "      <td>True</td>\n",
       "    </tr>\n",
       "    <tr>\n",
       "      <th>25</th>\n",
       "      <td>[A Russian dog named Laika was the first anima...</td>\n",
       "      <td>True</td>\n",
       "    </tr>\n",
       "    <tr>\n",
       "      <th>26</th>\n",
       "      <td>[Dogs’ only sweat glands are between their paw...</td>\n",
       "      <td>True</td>\n",
       "    </tr>\n",
       "  </tbody>\n",
       "</table>\n",
       "</div>"
      ],
      "text/plain": [
       "                                                facts  success\n",
       "0   [It’s been demonstrated that dogs can reduce b...     True\n",
       "1   [The Beagle came into prominence in the 1300s ...     True\n",
       "2   [Police dogs can smell human bodies even when ...     True\n",
       "3   [Baks the blind boxer has a seeing eye goose n...     True\n",
       "4   [The Girl Scouts and Boy Scouts both offer mer...     True\n",
       "5   [Within hours of the September 11, 2001, attac...     True\n",
       "6   [A dog's sense of smell is 10,000 times strong...     True\n",
       "7   [Teams of dogs compete for the fastest time wi...     True\n",
       "8   [The Labrador Retriever is the #1 favorite bre...     True\n",
       "9        [Dogs are all direct descendants of wolves.]     True\n",
       "10  [In Egypt, a person bitten by a rabid dog was ...     True\n",
       "11  [Two stray dogs in Afghanistan saved 50 Americ...     True\n",
       "12  [The breed Lundehune has 6 toes and can close ...     True\n",
       "13  [The Beatles song \"A day in the Life\" has an e...     True\n",
       "14  [The earliest dog fossil dates back to nearly ...     True\n",
       "15   [Eighteen muscles or more can move a dog’s ear.]     True\n",
       "16  [Pit bulls have been given a bad rap. BADRAP w...     True\n",
       "17  [The Labrador Retriever has been the most popu...     True\n",
       "18  [The Berger Picard, Miniature American Shepher...     True\n",
       "19                   [Dogs are natural pack animals.]     True\n",
       "20  [President Franklin Roosevelt created a minor ...     True\n",
       "21   [Dogs sleep for an average of 10 hours per day.]     True\n",
       "22  [There are nearly 14,000 animal shelters and r...     True\n",
       "23    [More than 1 in 3 American families own a dog.]     True\n",
       "24  [A dog’s sense of smell is more than 100,000 t...     True\n",
       "25  [A Russian dog named Laika was the first anima...     True\n",
       "26  [Dogs’ only sweat glands are between their paw...     True"
      ]
     },
     "execution_count": 39,
     "metadata": {},
     "output_type": "execute_result"
    }
   ],
   "source": [
    "# Your code here\n",
    "df = pd.DataFrame(dogs_facts)\n",
    "df"
   ]
  },
  {
   "cell_type": "markdown",
   "id": "9f401ae3",
   "metadata": {},
   "source": [
    "# Modify the previous table, using a lambda function, so you modify the column data to have the same column but with the element instead of the list with that one element"
   ]
  },
  {
   "cell_type": "code",
   "execution_count": 92,
   "id": "b29f4826",
   "metadata": {},
   "outputs": [],
   "source": [
    "# Your code here\n",
    "df[\"facts\"] = df[\"facts\"].apply(lambda x: \"\".join(x))"
   ]
  },
  {
   "cell_type": "markdown",
   "id": "d3fb564c",
   "metadata": {},
   "source": [
    "# Save the dataframe into the data folder. "
   ]
  },
  {
   "cell_type": "markdown",
   "id": "2b334e3d",
   "metadata": {},
   "source": [
    "Make sure you don't get that unnamed: 0 column. Hint: https://stackoverflow.com/questions/36519086/how-to-get-rid-of-unnamed-0-column-in-a-pandas-dataframe-read-in-from-csv-fil"
   ]
  },
  {
   "cell_type": "code",
   "execution_count": 79,
   "id": "ca21a372",
   "metadata": {},
   "outputs": [],
   "source": [
    "# Your code heret\n",
    "df.to_csv(\"/Users/leonplaza/Desktop/ironhack/lab/lab-apis/data/dataframe.csv\", index=False)"
   ]
  }
 ],
 "metadata": {
  "kernelspec": {
   "display_name": "ironhack",
   "language": "python",
   "name": "ironhack"
  },
  "language_info": {
   "codemirror_mode": {
    "name": "ipython",
    "version": 3
   },
   "file_extension": ".py",
   "mimetype": "text/x-python",
   "name": "python",
   "nbconvert_exporter": "python",
   "pygments_lexer": "ipython3",
   "version": "3.11.5"
  },
  "nbTranslate": {
   "displayLangs": [
    "en",
    "es"
   ],
   "hotkey": "alt-a",
   "langInMainMenu": true,
   "sourceLang": "es",
   "targetLang": "en",
   "useGoogleTranslate": true
  },
  "toc": {
   "base_numbering": 1,
   "nav_menu": {},
   "number_sections": true,
   "sideBar": true,
   "skip_h1_title": false,
   "title_cell": "Table of Contents",
   "title_sidebar": "Contents",
   "toc_cell": false,
   "toc_position": {},
   "toc_section_display": true,
   "toc_window_display": false
  }
 },
 "nbformat": 4,
 "nbformat_minor": 5
}
