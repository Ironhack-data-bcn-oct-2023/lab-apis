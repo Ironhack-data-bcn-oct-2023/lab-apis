{
 "cells": [
  {
   "cell_type": "markdown",
   "id": "b25842d6",
   "metadata": {},
   "source": [
    "# Import the necessary libraries: pandas & requests"
   ]
  },
  {
   "cell_type": "code",
   "execution_count": 75,
   "id": "215eb6bc",
   "metadata": {},
   "outputs": [],
   "source": [
    "import pandas as pd\n",
    "from pandas import json_normalize\n",
    "\n",
    "import requests \n",
    "import json\n",
    "import os\n",
    "from dotenv import load_dotenv #conda install -c conda-forge python-dotenv\n",
    "\n",
    "import time\n",
    "\n",
    "import sys\n",
    "sys.path.append(\"../\")"
   ]
  },
  {
   "cell_type": "markdown",
   "id": "416a4caf",
   "metadata": {},
   "source": [
    "# Go on to this website: `https://kinduff.github.io/dog-api/`. Read the docs. "
   ]
  },
  {
   "cell_type": "markdown",
   "id": "bb949a18",
   "metadata": {},
   "source": [
    "## Build the `url_for_request`. This will be the result of: reading the docs 🙃. "
   ]
  },
  {
   "cell_type": "markdown",
   "id": "543e6c0d",
   "metadata": {},
   "source": [
    "Hint: there's a `base_url` to which you need to add another `endpoint`. Call the resulting string `url_for_request`"
   ]
  },
  {
   "cell_type": "code",
   "execution_count": 61,
   "id": "8c147eb7",
   "metadata": {},
   "outputs": [],
   "source": [
    "# Your code here\n",
    "url_for_request = \"http://dog-api.kinduff.com/api/facts\"\n",
    "# base_url"
   ]
  },
  {
   "cell_type": "code",
   "execution_count": 62,
   "id": "c503211c",
   "metadata": {},
   "outputs": [],
   "source": [
    "# Your code here\n",
    "res = requests.get(url_for_request, params = \"?number=5\").json()\n",
    "# endpoint "
   ]
  },
  {
   "cell_type": "code",
   "execution_count": 63,
   "id": "e8563709",
   "metadata": {
    "scrolled": true
   },
   "outputs": [
    {
     "data": {
      "text/plain": [
       "{'facts': ['There are nearly 14,000 animal shelters and rescue groups across North America.'],\n",
       " 'success': True}"
      ]
     },
     "execution_count": 63,
     "metadata": {},
     "output_type": "execute_result"
    }
   ],
   "source": [
    "# Your code here\n",
    "res"
   ]
  },
  {
   "cell_type": "markdown",
   "id": "c5f33f0f",
   "metadata": {},
   "source": [
    "# Do one request using the `url_for_request`. Make sure it's read as a json."
   ]
  },
  {
   "cell_type": "code",
   "execution_count": 64,
   "id": "311d0c28",
   "metadata": {},
   "outputs": [
    {
     "data": {
      "text/html": [
       "<div>\n",
       "<style scoped>\n",
       "    .dataframe tbody tr th:only-of-type {\n",
       "        vertical-align: middle;\n",
       "    }\n",
       "\n",
       "    .dataframe tbody tr th {\n",
       "        vertical-align: top;\n",
       "    }\n",
       "\n",
       "    .dataframe thead th {\n",
       "        text-align: right;\n",
       "    }\n",
       "</style>\n",
       "<table border=\"1\" class=\"dataframe\">\n",
       "  <thead>\n",
       "    <tr style=\"text-align: right;\">\n",
       "      <th></th>\n",
       "      <th>facts</th>\n",
       "      <th>success</th>\n",
       "    </tr>\n",
       "  </thead>\n",
       "  <tbody>\n",
       "    <tr>\n",
       "      <th>0</th>\n",
       "      <td>There are nearly 14,000 animal shelters and re...</td>\n",
       "      <td>True</td>\n",
       "    </tr>\n",
       "  </tbody>\n",
       "</table>\n",
       "</div>"
      ],
      "text/plain": [
       "                                               facts  success\n",
       "0  There are nearly 14,000 animal shelters and re...     True"
      ]
     },
     "execution_count": 64,
     "metadata": {},
     "output_type": "execute_result"
    }
   ],
   "source": [
    "# Your code here\n",
    "res = pd.DataFrame(res)\n",
    "res"
   ]
  },
  {
   "cell_type": "markdown",
   "id": "1bfb3a80",
   "metadata": {},
   "source": [
    "# Great! Now: encapsulate"
   ]
  },
  {
   "cell_type": "markdown",
   "id": "d72434d8",
   "metadata": {},
   "source": [
    "- Create a function whith the name: `request_dog_facts`\n",
    "- It should not take any argument\n",
    "- It should return one dictionary with the information requested\n"
   ]
  },
  {
   "cell_type": "code",
   "execution_count": 65,
   "id": "e7dc2129",
   "metadata": {},
   "outputs": [],
   "source": [
    "# Your code here\n",
    "def request_dog_facts():\n",
    "    \n",
    "    url_for_request = \"http://dog-api.kinduff.com/api/facts\"\n",
    "    res = requests.get(url_for_request, params = \"?number=5\").json()\n",
    "    return res"
   ]
  },
  {
   "cell_type": "code",
   "execution_count": 66,
   "id": "dda6fe65",
   "metadata": {},
   "outputs": [
    {
     "data": {
      "text/plain": [
       "{'facts': ['Wow, check out those choppers! Puppies have 28 teeth and normal adult dogs have 42.'],\n",
       " 'success': True}"
      ]
     },
     "execution_count": 66,
     "metadata": {},
     "output_type": "execute_result"
    }
   ],
   "source": [
    "request_dog_facts()"
   ]
  },
  {
   "cell_type": "markdown",
   "id": "5c01f4ce",
   "metadata": {},
   "source": [
    "# APIs may be faulty when requesting many times: make sure you implement a try & except to cover for that."
   ]
  },
  {
   "cell_type": "markdown",
   "id": "ae0d7596",
   "metadata": {},
   "source": [
    "If the request doesn't work, make sure you return a message"
   ]
  },
  {
   "cell_type": "code",
   "execution_count": 67,
   "id": "9263e7c8",
   "metadata": {},
   "outputs": [],
   "source": [
    "# your code here\n",
    "def request_dog_facts():\n",
    "    try: \n",
    "        url_for_request = \"http://dog-api.kinduff.com/api/facts\"\n",
    "        res = requests.get(url_for_request, params = {\"number\":5})\n",
    "        \n",
    "        if res.status_code == 200:\n",
    "            return res.json()\n",
    "        else:\n",
    "            return {\"error\": \"Error{}\".format(res.status_code)}\n",
    "\n",
    "    except Exception as e:\n",
    "        return {\"error\":\"Error:{}\".format(e)}"
   ]
  },
  {
   "cell_type": "code",
   "execution_count": 87,
   "id": "75893dba",
   "metadata": {},
   "outputs": [
    {
     "data": {
      "text/plain": [
       "{'facts': ['Cerberus was the tri-headed dog that guarded the underworld in Greek mythology.',\n",
       "  'The Chihuahua was named after the state in Mexico where they were discovered.',\n",
       "  'Although dogs have some sweat glands in their feet, their principal way of losing heat when they are too hot is by panting.',\n",
       "  'A dog’s heart beats up to 120 times per minute, or 50% faster than the average human heartbeat of 80 times per minute.',\n",
       "  'The Newfoundland has a water-resistant coat and webbed feet.'],\n",
       " 'success': True}"
      ]
     },
     "execution_count": 87,
     "metadata": {},
     "output_type": "execute_result"
    }
   ],
   "source": [
    "res = request_dog_facts()\n",
    "res"
   ]
  },
  {
   "cell_type": "markdown",
   "id": "b201a536",
   "metadata": {},
   "source": [
    "# We now want to get as the day of the month today: eg.: if current month is october we'll make 10  requests"
   ]
  },
  {
   "cell_type": "markdown",
   "id": "b9ee1515",
   "metadata": {},
   "source": [
    "Create a variable called `current_month`. Using the imported library in the first cell, save today's day."
   ]
  },
  {
   "cell_type": "markdown",
   "id": "14b617d3",
   "metadata": {},
   "source": [
    "## def request_dog_facts():\n",
    "    \n",
    "    url_for_request = \"http://dog-api.kinduff.com/api/facts\"\n",
    "    res = requests.get(url_for_request, params = \"?number=5\").json()\n",
    "    return res"
   ]
  },
  {
   "cell_type": "code",
   "execution_count": 107,
   "id": "1e7947fe",
   "metadata": {},
   "outputs": [
    {
     "name": "stdout",
     "output_type": "stream",
     "text": [
      "{'facts': ['Dogs can be trained to detect cancer in humans.'], 'success': True}\n",
      "{'facts': [\"A dog's sense of smell is reduced by up to 40 percent when he's overheated and panting.\"], 'success': True}\n",
      "{'facts': ['Dogs are natural pack animals.'], 'success': True}\n",
      "{'facts': [\"Service dogs are trained to know when they are on duty. When their harness is on, they know it's business time. When you take it off, the pups immediately become playful and energetic.\"], 'success': True}\n",
      "{'facts': ['The most popular male dog names are Max and Jake. The most popular female dog names are Maggie and Molly.'], 'success': True}\n",
      "{'facts': ['Dogs are capable of understanding up to 250 words and gestures, can count up to five and can perform simple mathematical calculations. The average dog is as intelligent as a two-year-old child.'], 'success': True}\n",
      "{'facts': ['A person standing still 300 yards away is almost invisible to a dog. But a dog can easily identify its owner standing a mile away if the owner is waving his arms.'], 'success': True}\n",
      "{'facts': ['It pays to be a lap dog. Three dogs (from First Class cabins!) survived the sinking of the Titanic – two Pomeranians and one Pekingese.'], 'success': True}\n",
      "{'facts': ['A dog can both sniff and breathe at the same time.'], 'success': True}\n",
      "{'facts': ['Did you hear that? Sound frequency is measured in Hertz (Hz). The higher the Hertz, the higher-pitched the sound. Dogs hear best at 8,000 Hz, while humans hear best at around 2,000 Hz.'], 'success': True}\n"
     ]
    }
   ],
   "source": [
    "# Your code here\n",
    "from datetime import date\n",
    "\n",
    "current_month = date.today().month \n",
    "\n",
    "for i in range(current_month):\n",
    "    print(request_dog_facts(url_for_request))"
   ]
  },
  {
   "cell_type": "markdown",
   "id": "79f81f5f",
   "metadata": {},
   "source": [
    "# If `todays_date` is 27, create a list with 27 dictionaries reusing the function you just created: `request_dog_facts`. List should be called: `dogs_facts`. Do this using a comprehension list"
   ]
  },
  {
   "cell_type": "code",
   "execution_count": 97,
   "id": "731959ec",
   "metadata": {},
   "outputs": [
    {
     "name": "stdout",
     "output_type": "stream",
     "text": [
      "{'facts': ['Dog nose prints are as unique as human finger prints and can be used to identify them.'], 'success': True}\n",
      "{'facts': ['Bichons, Portuguese Water Dogs, Kerry Blue Terriers, Maltese and Poodles are all good choices if you have allergies since they shed less than other breeds.'], 'success': True}\n",
      "{'facts': ['Thomas Jefferson helped enact a dog tax in Virginia, because he was annoyed that dogs were killing his sheep.'], 'success': True}\n",
      "{'facts': ['Davy Crockett had a dog named Sport.'], 'success': True}\n",
      "{'facts': ['If you want a dog to see things in a green background the best color is blue.'], 'success': True}\n",
      "{'facts': ['Ancient Egyptians revered their dogs. When a pet dog would die, the owners shaved off their eyebrows, smeared mud in their hair, and mourned aloud for days.'], 'success': True}\n",
      "{'facts': ['Cerberus was the tri-headed dog that guarded the underworld in Greek mythology.'], 'success': True}\n",
      "{'facts': ['The ancient Chinese carried Pekingese puppies in the sleeves of their robes.'], 'success': True}\n",
      "{'facts': ['Those born under the sign of the dog in Chinese astrology are considered to be loyal and discreet, though slightly temperamental.'], 'success': True}\n",
      "{'facts': ['Dogs can get jealous when their humans display affection toward someone or something else.'], 'success': True}\n",
      "{'facts': ['The Alaskan Malamute can withstand temperatures as low as 70 degrees below zero.'], 'success': True}\n",
      "{'facts': ['The phrase \"raining cats and dogs\" originated in seventeenth-century England. During heavy rainstorms, many homeless animals would drown and float down the streets, giving the appearance that it had actually rained cats and dogs.'], 'success': True}\n",
      "{'facts': ['One survey reports that 33% of dog owners admit they talk to their dogs on the phone or leave messages on answering machines while they are away..'], 'success': True}\n",
      "{'facts': ['Thirty percent of all Dalmatians are deaf in one or both ears. Because bulldogs have extremely short muzzles, many spend their lives fighting suffocation. Because Chihuahuas have such small skulls, the flow of spinal fluid can be restricted, causing hydrocephalus, a swelling of the brain.'], 'success': True}\n",
      "{'facts': ['The Labrador Retriever is the #1 favorite breed in the U.S., Canada, and the U.K.'], 'success': True}\n",
      "{'facts': ['In Iran, it is against the law to own a dog as a pet. However, if an owner can prove the dog is a guard or hunting dog, this restriction doesn’t apply. Muslim reticence concerning dogs is perhaps due to the fact that rabies has always been endemic in the Middle East.'], 'success': True}\n",
      "{'facts': ['A Beatles hit. It’s rumored that, at the end of the Beatles song, \"A Day in the Life,\" Paul McCartney recorded an ultrasonic whistle, audible only to dogs, just for his Shetland sheepdog.'], 'success': True}\n",
      "{'facts': ['Dachshunds were bred to fight badgers in their dens.'], 'success': True}\n",
      "{'facts': ['No night vision goggles needed! Dogs’ eyes contain a special membrane, called the tapetum lucidum, which allows them to see in the dark.'], 'success': True}\n",
      "{'facts': ['Cerberus was the tri-headed dog that guarded the underworld in Greek mythology.'], 'success': True}\n",
      "{'facts': ['In 1957, Laika became the first living being in space via an earth satellite and JFK’s terrier, Charlie, fathered 4 puppies with Laika’s daughter.'], 'success': True}\n",
      "{'facts': ['The oldest known dog bones were found in Asia and date as far back as 10,000 B.C. The first identifiable dog breed appeared about 9000 B.C. and was probably a type of Greyhound dog used for hunting.'], 'success': True}\n",
      "{'facts': ['The Girl Scouts and Boy Scouts both offer merit badges in dog care.'], 'success': True}\n",
      "{'facts': ['In Roman times, mastiffs donned light armor and were sent after mounted knights.'], 'success': True}\n",
      "{'facts': ['Here’s looking at you. Dogs have three eyelids, an upper lid, a lower lid and the third lid, called a nictitating membrane or \"haw,\" which helps keep the eye moist and protected.'], 'success': True}\n",
      "{'facts': ['Ancient Egyptians revered their dogs. When a pet dog would die, the owners shaved off their eyebrows, smeared mud in their hair, and mourned aloud for days.'], 'success': True}\n",
      "{'facts': ['An American Animal Hospital Association poll found that 33% of dog owners admit to talking to their dogs on the phone and leaving answering machine messages for them while away.'], 'success': True}\n"
     ]
    }
   ],
   "source": [
    "# Your code here\n",
    "todays_date = date.today().day\n",
    "\n",
    "\n",
    "for i in range(todays_date):\n",
    "    print(request_dog_facts(url_for_request))"
   ]
  },
  {
   "cell_type": "markdown",
   "id": "ec3a47d4",
   "metadata": {},
   "source": [
    "# Build a DF. You have a list of dictionaries, should be easy!"
   ]
  },
  {
   "cell_type": "code",
   "execution_count": 110,
   "id": "d22652ed",
   "metadata": {},
   "outputs": [
    {
     "data": {
      "text/html": [
       "<div>\n",
       "<style scoped>\n",
       "    .dataframe tbody tr th:only-of-type {\n",
       "        vertical-align: middle;\n",
       "    }\n",
       "\n",
       "    .dataframe tbody tr th {\n",
       "        vertical-align: top;\n",
       "    }\n",
       "\n",
       "    .dataframe thead th {\n",
       "        text-align: right;\n",
       "    }\n",
       "</style>\n",
       "<table border=\"1\" class=\"dataframe\">\n",
       "  <thead>\n",
       "    <tr style=\"text-align: right;\">\n",
       "      <th></th>\n",
       "    </tr>\n",
       "  </thead>\n",
       "  <tbody>\n",
       "  </tbody>\n",
       "</table>\n",
       "</div>"
      ],
      "text/plain": [
       "Empty DataFrame\n",
       "Columns: []\n",
       "Index: []"
      ]
     },
     "execution_count": 110,
     "metadata": {},
     "output_type": "execute_result"
    }
   ],
   "source": [
    "# Your code here\n"
   ]
  },
  {
   "cell_type": "markdown",
   "id": "9f401ae3",
   "metadata": {},
   "source": [
    "# Modify the previous table, using a lambda function, so you modify the column data to have the same column but with the element instead of the list with that one element"
   ]
  },
  {
   "cell_type": "markdown",
   "id": "d3fb564c",
   "metadata": {},
   "source": [
    "# Save the dataframe into the data folder. "
   ]
  },
  {
   "cell_type": "markdown",
   "id": "2b334e3d",
   "metadata": {},
   "source": [
    "Make sure you don't get that unnamed: 0 column. Hint: https://stackoverflow.com/questions/36519086/how-to-get-rid-of-unnamed-0-column-in-a-pandas-dataframe-read-in-from-csv-fil"
   ]
  },
  {
   "cell_type": "code",
   "execution_count": 50,
   "id": "ca21a372",
   "metadata": {},
   "outputs": [],
   "source": [
    "# Your code here"
   ]
  }
 ],
 "metadata": {
  "kernelspec": {
   "display_name": "ironhack",
   "language": "python",
   "name": "ironhack"
  },
  "language_info": {
   "codemirror_mode": {
    "name": "ipython",
    "version": 3
   },
   "file_extension": ".py",
   "mimetype": "text/x-python",
   "name": "python",
   "nbconvert_exporter": "python",
   "pygments_lexer": "ipython3",
   "version": "3.11.5"
  },
  "nbTranslate": {
   "displayLangs": [
    "en",
    "es"
   ],
   "hotkey": "alt-a",
   "langInMainMenu": true,
   "sourceLang": "es",
   "targetLang": "en",
   "useGoogleTranslate": true
  },
  "toc": {
   "base_numbering": 1,
   "nav_menu": {},
   "number_sections": true,
   "sideBar": true,
   "skip_h1_title": false,
   "title_cell": "Table of Contents",
   "title_sidebar": "Contents",
   "toc_cell": false,
   "toc_position": {},
   "toc_section_display": true,
   "toc_window_display": false
  }
 },
 "nbformat": 4,
 "nbformat_minor": 5
}
