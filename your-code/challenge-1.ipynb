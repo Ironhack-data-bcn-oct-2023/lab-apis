{
 "cells": [
  {
   "cell_type": "markdown",
   "id": "b25842d6",
   "metadata": {},
   "source": [
    "# Import the necessary libraries: pandas & requests"
   ]
  },
  {
   "cell_type": "code",
   "execution_count": 5,
   "id": "215eb6bc",
   "metadata": {},
   "outputs": [],
   "source": [
    "import pandas as pd\n",
    "from pandas import json_normalize\n",
    "\n",
    "import requests \n",
    "import json\n",
    "import os\n",
    "#from dotenv import load_dotenv #conda install -c conda-forge python-dotenv\n",
    "\n",
    "import time\n",
    "\n",
    "import sys\n",
    "sys.path.append(\"../\")"
   ]
  },
  {
   "cell_type": "markdown",
   "id": "416a4caf",
   "metadata": {},
   "source": [
    "# Go on to this website: `https://kinduff.github.io/dog-api/`. Read the docs. "
   ]
  },
  {
   "cell_type": "markdown",
   "id": "bb949a18",
   "metadata": {},
   "source": [
    "## Build the `url_for_request`. This will be the result of: reading the docs 🙃. "
   ]
  },
  {
   "cell_type": "markdown",
   "id": "543e6c0d",
   "metadata": {},
   "source": [
    "Hint: there's a `base_url` to which you need to add another `endpoint`. Call the resulting string `url_for_request`"
   ]
  },
  {
   "cell_type": "code",
   "execution_count": 6,
   "id": "8c147eb7",
   "metadata": {},
   "outputs": [],
   "source": [
    "# Your code here\n",
    "url_for_request = \"http://dog-api.kinduff.com/api/facts\""
   ]
  },
  {
   "cell_type": "markdown",
   "id": "c5f33f0f",
   "metadata": {},
   "source": [
    "# Do one request using the `url_for_request`. Make sure it's read as a json."
   ]
  },
  {
   "cell_type": "code",
   "execution_count": 7,
   "id": "311d0c28",
   "metadata": {},
   "outputs": [
    {
     "data": {
      "text/plain": [
       "{'facts': ['Greyhounds can reach a speed of up to 45 miles per hour.'],\n",
       " 'success': True}"
      ]
     },
     "execution_count": 7,
     "metadata": {},
     "output_type": "execute_result"
    }
   ],
   "source": [
    "request_dogs = requests.get(url_for_request).json()\n",
    "request_dogs"
   ]
  },
  {
   "cell_type": "markdown",
   "id": "1bfb3a80",
   "metadata": {},
   "source": [
    "# Great! Now: encapsulate"
   ]
  },
  {
   "cell_type": "markdown",
   "id": "d72434d8",
   "metadata": {},
   "source": [
    "- Create a function whith the name: `request_dog_facts`\n",
    "- It should not take any argument\n",
    "- It should return one dictionary with the information requested\n"
   ]
  },
  {
   "cell_type": "code",
   "execution_count": 8,
   "id": "e7dc2129",
   "metadata": {},
   "outputs": [],
   "source": [
    "def request_dog_facts():\n",
    "    url_for_request = \"http://dog-api.kinduff.com/api/facts\"\n",
    "    request_dogs = requests.get(url_for_request).json()\n",
    "    return request_dogs"
   ]
  },
  {
   "cell_type": "code",
   "execution_count": 9,
   "id": "5852eeea",
   "metadata": {},
   "outputs": [
    {
     "data": {
      "text/plain": [
       "{'facts': ['The term \"dog days of summer\" was coined by the ancient Greeks and Romans to describe the hottest days of summer that coincided with the rising of the Dog Star, Sirius.'],\n",
       " 'success': True}"
      ]
     },
     "execution_count": 9,
     "metadata": {},
     "output_type": "execute_result"
    }
   ],
   "source": [
    "request_dog_facts()"
   ]
  },
  {
   "cell_type": "markdown",
   "id": "5c01f4ce",
   "metadata": {},
   "source": [
    "# APIs may be faulty when requesting many times: make sure you implement a try & except to cover for that."
   ]
  },
  {
   "cell_type": "markdown",
   "id": "ae0d7596",
   "metadata": {},
   "source": [
    "If the request doesn't work, make sure you return a message"
   ]
  },
  {
   "cell_type": "code",
   "execution_count": 10,
   "id": "9263e7c8",
   "metadata": {},
   "outputs": [],
   "source": [
    "def request_dog_facts():\n",
    "    url_for_request = \"http://dog-api.kinduff.com/api/facts\"\n",
    "    request_dogs = requests.get(url_for_request).json()\n",
    "    try:\n",
    "        return request_dogs\n",
    "    except:\n",
    "        print(\"too many requests\")"
   ]
  },
  {
   "cell_type": "code",
   "execution_count": 11,
   "id": "dd409ba8",
   "metadata": {},
   "outputs": [
    {
     "data": {
      "text/plain": [
       "{'facts': ['Dogs can be trained to detect cancer and other diseases in humans.'],\n",
       " 'success': True}"
      ]
     },
     "execution_count": 11,
     "metadata": {},
     "output_type": "execute_result"
    }
   ],
   "source": [
    "request_dog_facts()"
   ]
  },
  {
   "cell_type": "markdown",
   "id": "b201a536",
   "metadata": {},
   "source": [
    "# We now want to get as the day of the month today: eg.: if current month is october we'll make 10  requests"
   ]
  },
  {
   "cell_type": "markdown",
   "id": "b9ee1515",
   "metadata": {},
   "source": [
    "Create a variable called `current_month`. Using the imported library in the first cell, save today's day."
   ]
  },
  {
   "cell_type": "code",
   "execution_count": 34,
   "id": "1e7947fe",
   "metadata": {},
   "outputs": [
    {
     "data": {
      "text/plain": [
       "10"
      ]
     },
     "execution_count": 34,
     "metadata": {},
     "output_type": "execute_result"
    }
   ],
   "source": [
    "import datetime\n",
    "from datetime import datetime\n",
    "current_month = datetime.now().month\n",
    "current_month"
   ]
  },
  {
   "cell_type": "code",
   "execution_count": 32,
   "id": "2be1b8e5",
   "metadata": {},
   "outputs": [],
   "source": [
    "def request_dog_facts():\n",
    "    current_month = datetime.now().month\n",
    "    list_dog_facts = []\n",
    "    for i in range(current_month):\n",
    "        res = requests.get(url_for_request).json()\n",
    "        list_dog_facts.append(res)\n",
    "    return list_dog_facts"
   ]
  },
  {
   "cell_type": "code",
   "execution_count": 33,
   "id": "401739f6",
   "metadata": {},
   "outputs": [
    {
     "data": {
      "text/plain": [
       "[{'facts': ['Dogs’ nose prints are as unique as a human’s finger prints, and can be used to accurately identify them.'],\n",
       "  'success': True},\n",
       " {'facts': [\"The wetness of a dog's nose is essential for determining what direction a smell is coming from.\"],\n",
       "  'success': True},\n",
       " {'facts': ['A person standing still 300 yards away is almost invisible to a dog. But a dog can easily identify its owner standing a mile away if the owner is waving his arms.'],\n",
       "  'success': True},\n",
       " {'facts': ['In Australia, a man who was arrested for drug possession argued his civil rights were violated when the drug-sniffing dog nuzzled his crotch. While the judge dismissed the charges, they were later reinstated when a prosecutor pointed out that in the animal kingdom, crotch nuzzling was a friendly gesture.'],\n",
       "  'success': True},\n",
       " {'facts': ['Bingo is the name of the dog on the box of Cracker Jacks.'],\n",
       "  'success': True},\n",
       " {'facts': ['Puppies sleep 90% of the day for their first few weeks.'],\n",
       "  'success': True},\n",
       " {'facts': ['Some dogs have shown remarkable ability to detect certain cancers.'],\n",
       "  'success': True},\n",
       " {'facts': ['It is not possible to know how many puppies a dog will have just by looking. The appearance can be very deceptive.'],\n",
       "  'success': True},\n",
       " {'facts': ['Wow, check out those choppers! Puppies have 28 teeth and normal adult dogs have 42.'],\n",
       "  'success': True},\n",
       " {'facts': ['Pekingese and Japanese Chins were so important in the ancient Far East that they had their own servants and were carried around trade routes as gifts for kings and emperors. Pekingese were even worshipped in the temples of China for centuries.'],\n",
       "  'success': True}]"
      ]
     },
     "execution_count": 33,
     "metadata": {},
     "output_type": "execute_result"
    }
   ],
   "source": [
    "request_dog_facts()"
   ]
  },
  {
   "cell_type": "markdown",
   "id": "79f81f5f",
   "metadata": {},
   "source": [
    "# If `todays_date` is 27, create a list with 27 dictionaries reusing the function you just created: `request_dog_facts`. List should be called: `dogs_facts`. Do this using a comprehension list"
   ]
  },
  {
   "cell_type": "code",
   "execution_count": 36,
   "id": "731959ec",
   "metadata": {},
   "outputs": [
    {
     "data": {
      "text/plain": [
       "27"
      ]
     },
     "execution_count": 36,
     "metadata": {},
     "output_type": "execute_result"
    }
   ],
   "source": [
    "current_day = datetime.now().day\n",
    "current_day"
   ]
  },
  {
   "cell_type": "code",
   "execution_count": 56,
   "id": "5b6b0bf0",
   "metadata": {},
   "outputs": [
    {
     "data": {
      "text/plain": [
       "[{'facts': ['Chocolate contains a substance known as theobromine (similar to caffeine) which can kill dogs or, at the very least, make them violently ill.'],\n",
       "  'success': True},\n",
       " {'facts': ['If never spayed or neutered, a female dog, her mate, and their puppies could produce over 66,000 dogs in 6 years!'],\n",
       "  'success': True},\n",
       " {'facts': ['Touch is the first sense the dog develops. The entire body, including the paws, is covered with touch-sensitive nerve endings.'],\n",
       "  'success': True},\n",
       " {'facts': ['Pugs and other dogs with short muzzles have a peculiar head-type known as \"Brachycephalic.\"'],\n",
       "  'success': True},\n",
       " {'facts': ['Puppies are sometimes rejected by their mother if they are born by cesarean and cleaned up before being given back to her.'],\n",
       "  'success': True},\n",
       " {'facts': ['Dogs were first domesticated by cavemen.'], 'success': True},\n",
       " {'facts': ['Franklin Roosevelt spent $15,000 for a destroyer to pick up his Scottie in the Aleutian Islands.'],\n",
       "  'success': True},\n",
       " {'facts': ['Watch that plate of cookies! A Dog’s sense of smell is 10,000 – 100,000 times more acute as that of humans.'],\n",
       "  'success': True},\n",
       " {'facts': ['The bible mentions dogs 14 times.'], 'success': True},\n",
       " {'facts': ['Dogs with a flesh colored nose is said to have a \"Dudley Nose.\"'],\n",
       "  'success': True},\n",
       " {'facts': ['Some stray Russian dogs have figured out how to use the subway system in order to travel to more populated areas in search of food.'],\n",
       "  'success': True},\n",
       " {'facts': ['A dog can locate the source of a sound in 1/600 of a second and can hear sounds four times farther away than a human can.'],\n",
       "  'success': True},\n",
       " {'facts': ['Dogs have three eyelids, including one to keep their eyes moist and protected.'],\n",
       "  'success': True},\n",
       " {'facts': ['Dogs normally have between one to sixteen or even more puppies.'],\n",
       "  'success': True},\n",
       " {'facts': [\"A dog's average body temperature is 101.2 degrees.\"],\n",
       "  'success': True},\n",
       " {'facts': ['Dogs are mentioned in the Bible more than 35 times.'],\n",
       "  'success': True},\n",
       " {'facts': ['Like human babies, Chihuahuas are born with a soft spot in their skull which closes with age.'],\n",
       "  'success': True},\n",
       " {'facts': ['In 2002 alone, more people in the U.S. were killed by dogs than by sharks in the past 100 years.'],\n",
       "  'success': True},\n",
       " {'facts': ['The best dog to reportedly attract a date is the Golden Retriever. The worst is the Pit Bull.'],\n",
       "  'success': True},\n",
       " {'facts': [\"'Frito Feet' is the name of the phenomenon in which the bacteria on a dog's paws cause them to smell like corn chips. Because a pup's feet are in constant contact with the ground, they pick up tons of microorganisms in their paws. When dogs cool off by sweating through the pads of their feet, the combo of moisture and bacteria releaces a nutty, popcorn-like aroma. Basically it's dog B.O.\"],\n",
       "  'success': True},\n",
       " {'facts': ['The Labrador Retriever is the #1 favorite breed in the U.S., Canada, and the U.K.'],\n",
       "  'success': True},\n",
       " {'facts': ['The oldest known dog bones were found in Asia and date as far back as 10,000 B.C. The first identifiable dog breed appeared about 9000 B.C. and was probably a type of Greyhound dog used for hunting.'],\n",
       "  'success': True},\n",
       " {'facts': ['In Croatia, scientists discovered that lampposts were falling down because a chemical in the urine of male dogs was rotting the metal.'],\n",
       "  'success': True},\n",
       " {'facts': ['President Lyndon Johnson had two beagles named Him and Her.'],\n",
       "  'success': True},\n",
       " {'facts': ['Dog noses are also very cute and easy to boop.'],\n",
       "  'success': True},\n",
       " {'facts': ['The Alaskan Malamute can withstand temperatures as low as 70 degrees below zero.'],\n",
       "  'success': True},\n",
       " {'facts': ['This pup, Nesbit, earned over one million Delta airline miles in his life and had his own frequent flier card.'],\n",
       "  'success': True}]"
      ]
     },
     "execution_count": 56,
     "metadata": {},
     "output_type": "execute_result"
    }
   ],
   "source": [
    "def request_dog_facts():\n",
    "    current_day = datetime.now().day\n",
    "    dogs_facts = []\n",
    "    for i in range(current_day):\n",
    "        try: \n",
    "            res = requests.get(url_for_request).json()\n",
    "            dogs_facts.append(res)\n",
    "        except:\n",
    "            print(\"too many requests, bro\")\n",
    "    return dogs_facts\n",
    "\n",
    "dogs_facts = [requests.get(url_for_request).json() for i in range(current_day)]\n",
    "dogs_facts"
   ]
  },
  {
   "cell_type": "code",
   "execution_count": 46,
   "id": "813721ac",
   "metadata": {},
   "outputs": [
    {
     "data": {
      "text/plain": [
       "[{'facts': ['Male dogs will raise their legs while urinating to aim higher on a tree or lamppost because they want to leave a message that they are tall and intimidating. Some wild dogs in Africa try to run up tree trunks while they are urinating to appear to be very large.'],\n",
       "  'success': True},\n",
       " {'facts': ['Teams of dogs compete for the fastest time without errors in Flyball races.'],\n",
       "  'success': True},\n",
       " {'facts': ['During the Middle Ages, mixed breeds of peasants’ dogs were required to wear blocks around their necks to keep them from breeding with noble hunting dogs. Purebred dogs were very expensive and hunting became the province of the rich.'],\n",
       "  'success': True},\n",
       " {'facts': ['There are nearly 14,000 animal shelters and rescue groups across North America.'],\n",
       "  'success': True},\n",
       " {'facts': ['Greyhounds appear to be the most ancient dog breed. \"Greyhound\" comes from a mistake in translating the early German name Greishund, which means \"old (or ancient) dog,\" not from the color gray.'],\n",
       "  'success': True},\n",
       " {'facts': [\"'Frito Feet' is the name of the phenomenon in which the bacteria on a dog's paws cause them to smell like corn chips. Because a pup's feet are in constant contact with the ground, they pick up tons of microorganisms in their paws. When dogs cool off by sweating through the pads of their feet, the combo of moisture and bacteria releaces a nutty, popcorn-like aroma. Basically it's dog B.O.\"],\n",
       "  'success': True},\n",
       " {'facts': ['Dogs sleep for an average of 10 hours per day.'],\n",
       "  'success': True},\n",
       " {'facts': ['With love and a little patience, dogs can learn to walk backwards, salute and bow.'],\n",
       "  'success': True},\n",
       " {'facts': [\"A dog's average body temperature is 101.2 degrees.\"],\n",
       "  'success': True},\n",
       " {'facts': ['Davy Crockett had a dog named Sport.'], 'success': True},\n",
       " {'facts': ['The longer a dog’s nose, the more effective it’s internal cooling system.'],\n",
       "  'success': True},\n",
       " {'facts': ['It is much easier for dogs to learn spoken commands if they are given in conjunction with hand signals or gestures.'],\n",
       "  'success': True},\n",
       " {'facts': ['The breed Lundehune has 6 toes and can close its ears.'],\n",
       "  'success': True},\n",
       " {'facts': ['Rin Tin Tin was the first Hollywood dog star.'], 'success': True},\n",
       " {'facts': ['The Boy Scouts and Girl Scouts both offer merit badges in dog care.'],\n",
       "  'success': True},\n",
       " {'facts': ['The earliest European images of dogs are found in cave paintings dating back 12,000 years ago in Spain.'],\n",
       "  'success': True},\n",
       " {'facts': ['Dogs who bark the most: Miniature Schnauzers, Cairn Terriers, Yorkshire Terriers, Fox Terriers and West Highland White Terriers.'],\n",
       "  'success': True},\n",
       " {'facts': ['In addition to \"formal\" forms of dog training (operant conditioning, reinforcement, or classical conditioning), dogs are able to learn merely from observation.'],\n",
       "  'success': True},\n",
       " {'facts': ['Dogs are natural pack animals.'], 'success': True},\n",
       " {'facts': ['Apple and pear seeds contain arsenic, which may be deadly to dogs.'],\n",
       "  'success': True},\n",
       " {'facts': ['Laika, a Russian stray, was the first living mammal to orbit the Earth, in the Soviet Sputnik spacecraft in 1957. Though she died in space, her daughter Pushnika had four puppies with President John F. Kennedy’s terrier, Charlie.'],\n",
       "  'success': True},\n",
       " {'facts': ['Gidget is the name of the Taco Bell dog.'], 'success': True},\n",
       " {'facts': ['Search and Rescue dog training begin as games played while puppies.'],\n",
       "  'success': True},\n",
       " {'facts': [\"The wetness of a dog's nose is essential for determining what direction a smell is coming from.\"],\n",
       "  'success': True},\n",
       " {'facts': ['Humans generally see better than dogs, but dogs see much better when there is low-light.'],\n",
       "  'success': True},\n",
       " {'facts': ['In Iran, it is against the law to own a dog as a pet. However, if an owner can prove the dog is a guard or hunting dog, this restriction doesn’t apply. Muslim reticence concerning dogs is perhaps due to the fact that rabies has always been endemic in the Middle East.'],\n",
       "  'success': True},\n",
       " {'facts': ['Dog trainers in ancient China were held in high esteem. A great deal of dog domestication also took place in China, especially dwarfing and miniaturization.'],\n",
       "  'success': True}]"
      ]
     },
     "execution_count": 46,
     "metadata": {},
     "output_type": "execute_result"
    }
   ],
   "source": [
    "request_dog_facts()"
   ]
  },
  {
   "cell_type": "markdown",
   "id": "ec3a47d4",
   "metadata": {},
   "source": [
    "# Build a DF. You have a list of dictionaries, should be easy!"
   ]
  },
  {
   "cell_type": "code",
   "execution_count": 57,
   "id": "d22652ed",
   "metadata": {},
   "outputs": [
    {
     "data": {
      "text/html": [
       "<div>\n",
       "<style scoped>\n",
       "    .dataframe tbody tr th:only-of-type {\n",
       "        vertical-align: middle;\n",
       "    }\n",
       "\n",
       "    .dataframe tbody tr th {\n",
       "        vertical-align: top;\n",
       "    }\n",
       "\n",
       "    .dataframe thead th {\n",
       "        text-align: right;\n",
       "    }\n",
       "</style>\n",
       "<table border=\"1\" class=\"dataframe\">\n",
       "  <thead>\n",
       "    <tr style=\"text-align: right;\">\n",
       "      <th></th>\n",
       "      <th>facts</th>\n",
       "      <th>success</th>\n",
       "    </tr>\n",
       "  </thead>\n",
       "  <tbody>\n",
       "    <tr>\n",
       "      <th>0</th>\n",
       "      <td>[Chocolate contains a substance known as theob...</td>\n",
       "      <td>True</td>\n",
       "    </tr>\n",
       "    <tr>\n",
       "      <th>1</th>\n",
       "      <td>[If never spayed or neutered, a female dog, he...</td>\n",
       "      <td>True</td>\n",
       "    </tr>\n",
       "    <tr>\n",
       "      <th>2</th>\n",
       "      <td>[Touch is the first sense the dog develops. Th...</td>\n",
       "      <td>True</td>\n",
       "    </tr>\n",
       "    <tr>\n",
       "      <th>3</th>\n",
       "      <td>[Pugs and other dogs with short muzzles have a...</td>\n",
       "      <td>True</td>\n",
       "    </tr>\n",
       "    <tr>\n",
       "      <th>4</th>\n",
       "      <td>[Puppies are sometimes rejected by their mothe...</td>\n",
       "      <td>True</td>\n",
       "    </tr>\n",
       "    <tr>\n",
       "      <th>5</th>\n",
       "      <td>[Dogs were first domesticated by cavemen.]</td>\n",
       "      <td>True</td>\n",
       "    </tr>\n",
       "    <tr>\n",
       "      <th>6</th>\n",
       "      <td>[Franklin Roosevelt spent $15,000 for a destro...</td>\n",
       "      <td>True</td>\n",
       "    </tr>\n",
       "    <tr>\n",
       "      <th>7</th>\n",
       "      <td>[Watch that plate of cookies! A Dog’s sense of...</td>\n",
       "      <td>True</td>\n",
       "    </tr>\n",
       "    <tr>\n",
       "      <th>8</th>\n",
       "      <td>[The bible mentions dogs 14 times.]</td>\n",
       "      <td>True</td>\n",
       "    </tr>\n",
       "    <tr>\n",
       "      <th>9</th>\n",
       "      <td>[Dogs with a flesh colored nose is said to hav...</td>\n",
       "      <td>True</td>\n",
       "    </tr>\n",
       "    <tr>\n",
       "      <th>10</th>\n",
       "      <td>[Some stray Russian dogs have figured out how ...</td>\n",
       "      <td>True</td>\n",
       "    </tr>\n",
       "    <tr>\n",
       "      <th>11</th>\n",
       "      <td>[A dog can locate the source of a sound in 1/6...</td>\n",
       "      <td>True</td>\n",
       "    </tr>\n",
       "    <tr>\n",
       "      <th>12</th>\n",
       "      <td>[Dogs have three eyelids, including one to kee...</td>\n",
       "      <td>True</td>\n",
       "    </tr>\n",
       "    <tr>\n",
       "      <th>13</th>\n",
       "      <td>[Dogs normally have between one to sixteen or ...</td>\n",
       "      <td>True</td>\n",
       "    </tr>\n",
       "    <tr>\n",
       "      <th>14</th>\n",
       "      <td>[A dog's average body temperature is 101.2 deg...</td>\n",
       "      <td>True</td>\n",
       "    </tr>\n",
       "    <tr>\n",
       "      <th>15</th>\n",
       "      <td>[Dogs are mentioned in the Bible more than 35 ...</td>\n",
       "      <td>True</td>\n",
       "    </tr>\n",
       "    <tr>\n",
       "      <th>16</th>\n",
       "      <td>[Like human babies, Chihuahuas are born with a...</td>\n",
       "      <td>True</td>\n",
       "    </tr>\n",
       "    <tr>\n",
       "      <th>17</th>\n",
       "      <td>[In 2002 alone, more people in the U.S. were k...</td>\n",
       "      <td>True</td>\n",
       "    </tr>\n",
       "    <tr>\n",
       "      <th>18</th>\n",
       "      <td>[The best dog to reportedly attract a date is ...</td>\n",
       "      <td>True</td>\n",
       "    </tr>\n",
       "    <tr>\n",
       "      <th>19</th>\n",
       "      <td>['Frito Feet' is the name of the phenomenon in...</td>\n",
       "      <td>True</td>\n",
       "    </tr>\n",
       "    <tr>\n",
       "      <th>20</th>\n",
       "      <td>[The Labrador Retriever is the #1 favorite bre...</td>\n",
       "      <td>True</td>\n",
       "    </tr>\n",
       "    <tr>\n",
       "      <th>21</th>\n",
       "      <td>[The oldest known dog bones were found in Asia...</td>\n",
       "      <td>True</td>\n",
       "    </tr>\n",
       "    <tr>\n",
       "      <th>22</th>\n",
       "      <td>[In Croatia, scientists discovered that lamppo...</td>\n",
       "      <td>True</td>\n",
       "    </tr>\n",
       "    <tr>\n",
       "      <th>23</th>\n",
       "      <td>[President Lyndon Johnson had two beagles name...</td>\n",
       "      <td>True</td>\n",
       "    </tr>\n",
       "    <tr>\n",
       "      <th>24</th>\n",
       "      <td>[Dog noses are also very cute and easy to boop.]</td>\n",
       "      <td>True</td>\n",
       "    </tr>\n",
       "    <tr>\n",
       "      <th>25</th>\n",
       "      <td>[The Alaskan Malamute can withstand temperatur...</td>\n",
       "      <td>True</td>\n",
       "    </tr>\n",
       "    <tr>\n",
       "      <th>26</th>\n",
       "      <td>[This pup, Nesbit, earned over one million Del...</td>\n",
       "      <td>True</td>\n",
       "    </tr>\n",
       "  </tbody>\n",
       "</table>\n",
       "</div>"
      ],
      "text/plain": [
       "                                                facts  success\n",
       "0   [Chocolate contains a substance known as theob...     True\n",
       "1   [If never spayed or neutered, a female dog, he...     True\n",
       "2   [Touch is the first sense the dog develops. Th...     True\n",
       "3   [Pugs and other dogs with short muzzles have a...     True\n",
       "4   [Puppies are sometimes rejected by their mothe...     True\n",
       "5          [Dogs were first domesticated by cavemen.]     True\n",
       "6   [Franklin Roosevelt spent $15,000 for a destro...     True\n",
       "7   [Watch that plate of cookies! A Dog’s sense of...     True\n",
       "8                 [The bible mentions dogs 14 times.]     True\n",
       "9   [Dogs with a flesh colored nose is said to hav...     True\n",
       "10  [Some stray Russian dogs have figured out how ...     True\n",
       "11  [A dog can locate the source of a sound in 1/6...     True\n",
       "12  [Dogs have three eyelids, including one to kee...     True\n",
       "13  [Dogs normally have between one to sixteen or ...     True\n",
       "14  [A dog's average body temperature is 101.2 deg...     True\n",
       "15  [Dogs are mentioned in the Bible more than 35 ...     True\n",
       "16  [Like human babies, Chihuahuas are born with a...     True\n",
       "17  [In 2002 alone, more people in the U.S. were k...     True\n",
       "18  [The best dog to reportedly attract a date is ...     True\n",
       "19  ['Frito Feet' is the name of the phenomenon in...     True\n",
       "20  [The Labrador Retriever is the #1 favorite bre...     True\n",
       "21  [The oldest known dog bones were found in Asia...     True\n",
       "22  [In Croatia, scientists discovered that lamppo...     True\n",
       "23  [President Lyndon Johnson had two beagles name...     True\n",
       "24   [Dog noses are also very cute and easy to boop.]     True\n",
       "25  [The Alaskan Malamute can withstand temperatur...     True\n",
       "26  [This pup, Nesbit, earned over one million Del...     True"
      ]
     },
     "execution_count": 57,
     "metadata": {},
     "output_type": "execute_result"
    }
   ],
   "source": [
    "df_dogs_facts = pd.DataFrame(dogs_facts)\n",
    "df_dogs_facts"
   ]
  },
  {
   "cell_type": "markdown",
   "id": "9f401ae3",
   "metadata": {},
   "source": [
    "# Modify the previous table, using a lambda function, so you modify the column data to have the same column but with the element instead of the list with that one element"
   ]
  },
  {
   "cell_type": "code",
   "execution_count": 58,
   "id": "b29f4826",
   "metadata": {},
   "outputs": [
    {
     "data": {
      "text/html": [
       "<div>\n",
       "<style scoped>\n",
       "    .dataframe tbody tr th:only-of-type {\n",
       "        vertical-align: middle;\n",
       "    }\n",
       "\n",
       "    .dataframe tbody tr th {\n",
       "        vertical-align: top;\n",
       "    }\n",
       "\n",
       "    .dataframe thead th {\n",
       "        text-align: right;\n",
       "    }\n",
       "</style>\n",
       "<table border=\"1\" class=\"dataframe\">\n",
       "  <thead>\n",
       "    <tr style=\"text-align: right;\">\n",
       "      <th></th>\n",
       "      <th>facts</th>\n",
       "      <th>success</th>\n",
       "    </tr>\n",
       "  </thead>\n",
       "  <tbody>\n",
       "    <tr>\n",
       "      <th>0</th>\n",
       "      <td>Chocolate contains a substance known as theobr...</td>\n",
       "      <td>True</td>\n",
       "    </tr>\n",
       "    <tr>\n",
       "      <th>1</th>\n",
       "      <td>If never spayed or neutered, a female dog, her...</td>\n",
       "      <td>True</td>\n",
       "    </tr>\n",
       "    <tr>\n",
       "      <th>2</th>\n",
       "      <td>Touch is the first sense the dog develops. The...</td>\n",
       "      <td>True</td>\n",
       "    </tr>\n",
       "    <tr>\n",
       "      <th>3</th>\n",
       "      <td>Pugs and other dogs with short muzzles have a ...</td>\n",
       "      <td>True</td>\n",
       "    </tr>\n",
       "    <tr>\n",
       "      <th>4</th>\n",
       "      <td>Puppies are sometimes rejected by their mother...</td>\n",
       "      <td>True</td>\n",
       "    </tr>\n",
       "    <tr>\n",
       "      <th>5</th>\n",
       "      <td>Dogs were first domesticated by cavemen.</td>\n",
       "      <td>True</td>\n",
       "    </tr>\n",
       "    <tr>\n",
       "      <th>6</th>\n",
       "      <td>Franklin Roosevelt spent $15,000 for a destroy...</td>\n",
       "      <td>True</td>\n",
       "    </tr>\n",
       "    <tr>\n",
       "      <th>7</th>\n",
       "      <td>Watch that plate of cookies! A Dog’s sense of ...</td>\n",
       "      <td>True</td>\n",
       "    </tr>\n",
       "    <tr>\n",
       "      <th>8</th>\n",
       "      <td>The bible mentions dogs 14 times.</td>\n",
       "      <td>True</td>\n",
       "    </tr>\n",
       "    <tr>\n",
       "      <th>9</th>\n",
       "      <td>Dogs with a flesh colored nose is said to have...</td>\n",
       "      <td>True</td>\n",
       "    </tr>\n",
       "    <tr>\n",
       "      <th>10</th>\n",
       "      <td>Some stray Russian dogs have figured out how t...</td>\n",
       "      <td>True</td>\n",
       "    </tr>\n",
       "    <tr>\n",
       "      <th>11</th>\n",
       "      <td>A dog can locate the source of a sound in 1/60...</td>\n",
       "      <td>True</td>\n",
       "    </tr>\n",
       "    <tr>\n",
       "      <th>12</th>\n",
       "      <td>Dogs have three eyelids, including one to keep...</td>\n",
       "      <td>True</td>\n",
       "    </tr>\n",
       "    <tr>\n",
       "      <th>13</th>\n",
       "      <td>Dogs normally have between one to sixteen or e...</td>\n",
       "      <td>True</td>\n",
       "    </tr>\n",
       "    <tr>\n",
       "      <th>14</th>\n",
       "      <td>A dog's average body temperature is 101.2 degr...</td>\n",
       "      <td>True</td>\n",
       "    </tr>\n",
       "    <tr>\n",
       "      <th>15</th>\n",
       "      <td>Dogs are mentioned in the Bible more than 35 t...</td>\n",
       "      <td>True</td>\n",
       "    </tr>\n",
       "    <tr>\n",
       "      <th>16</th>\n",
       "      <td>Like human babies, Chihuahuas are born with a ...</td>\n",
       "      <td>True</td>\n",
       "    </tr>\n",
       "    <tr>\n",
       "      <th>17</th>\n",
       "      <td>In 2002 alone, more people in the U.S. were ki...</td>\n",
       "      <td>True</td>\n",
       "    </tr>\n",
       "    <tr>\n",
       "      <th>18</th>\n",
       "      <td>The best dog to reportedly attract a date is t...</td>\n",
       "      <td>True</td>\n",
       "    </tr>\n",
       "    <tr>\n",
       "      <th>19</th>\n",
       "      <td>'Frito Feet' is the name of the phenomenon in ...</td>\n",
       "      <td>True</td>\n",
       "    </tr>\n",
       "    <tr>\n",
       "      <th>20</th>\n",
       "      <td>The Labrador Retriever is the #1 favorite bree...</td>\n",
       "      <td>True</td>\n",
       "    </tr>\n",
       "    <tr>\n",
       "      <th>21</th>\n",
       "      <td>The oldest known dog bones were found in Asia ...</td>\n",
       "      <td>True</td>\n",
       "    </tr>\n",
       "    <tr>\n",
       "      <th>22</th>\n",
       "      <td>In Croatia, scientists discovered that lamppos...</td>\n",
       "      <td>True</td>\n",
       "    </tr>\n",
       "    <tr>\n",
       "      <th>23</th>\n",
       "      <td>President Lyndon Johnson had two beagles named...</td>\n",
       "      <td>True</td>\n",
       "    </tr>\n",
       "    <tr>\n",
       "      <th>24</th>\n",
       "      <td>Dog noses are also very cute and easy to boop.</td>\n",
       "      <td>True</td>\n",
       "    </tr>\n",
       "    <tr>\n",
       "      <th>25</th>\n",
       "      <td>The Alaskan Malamute can withstand temperature...</td>\n",
       "      <td>True</td>\n",
       "    </tr>\n",
       "    <tr>\n",
       "      <th>26</th>\n",
       "      <td>This pup, Nesbit, earned over one million Delt...</td>\n",
       "      <td>True</td>\n",
       "    </tr>\n",
       "  </tbody>\n",
       "</table>\n",
       "</div>"
      ],
      "text/plain": [
       "                                                facts  success\n",
       "0   Chocolate contains a substance known as theobr...     True\n",
       "1   If never spayed or neutered, a female dog, her...     True\n",
       "2   Touch is the first sense the dog develops. The...     True\n",
       "3   Pugs and other dogs with short muzzles have a ...     True\n",
       "4   Puppies are sometimes rejected by their mother...     True\n",
       "5            Dogs were first domesticated by cavemen.     True\n",
       "6   Franklin Roosevelt spent $15,000 for a destroy...     True\n",
       "7   Watch that plate of cookies! A Dog’s sense of ...     True\n",
       "8                   The bible mentions dogs 14 times.     True\n",
       "9   Dogs with a flesh colored nose is said to have...     True\n",
       "10  Some stray Russian dogs have figured out how t...     True\n",
       "11  A dog can locate the source of a sound in 1/60...     True\n",
       "12  Dogs have three eyelids, including one to keep...     True\n",
       "13  Dogs normally have between one to sixteen or e...     True\n",
       "14  A dog's average body temperature is 101.2 degr...     True\n",
       "15  Dogs are mentioned in the Bible more than 35 t...     True\n",
       "16  Like human babies, Chihuahuas are born with a ...     True\n",
       "17  In 2002 alone, more people in the U.S. were ki...     True\n",
       "18  The best dog to reportedly attract a date is t...     True\n",
       "19  'Frito Feet' is the name of the phenomenon in ...     True\n",
       "20  The Labrador Retriever is the #1 favorite bree...     True\n",
       "21  The oldest known dog bones were found in Asia ...     True\n",
       "22  In Croatia, scientists discovered that lamppos...     True\n",
       "23  President Lyndon Johnson had two beagles named...     True\n",
       "24     Dog noses are also very cute and easy to boop.     True\n",
       "25  The Alaskan Malamute can withstand temperature...     True\n",
       "26  This pup, Nesbit, earned over one million Delt...     True"
      ]
     },
     "execution_count": 58,
     "metadata": {},
     "output_type": "execute_result"
    }
   ],
   "source": [
    "#df_dogs_facts = df_dogs_facts.apply(Percentage = lambda x: (x['Total_Marks'] /500 * 100))\n",
    "df_dogs_facts[\"facts\"] = df_dogs_facts[\"facts\"].apply(lambda x: ''.join(x))\n",
    "df_dogs_facts"
   ]
  },
  {
   "cell_type": "markdown",
   "id": "d3fb564c",
   "metadata": {},
   "source": [
    "# Save the dataframe into the data folder. "
   ]
  },
  {
   "cell_type": "markdown",
   "id": "2b334e3d",
   "metadata": {},
   "source": [
    "Make sure you don't get that unnamed: 0 column. Hint: https://stackoverflow.com/questions/36519086/how-to-get-rid-of-unnamed-0-column-in-a-pandas-dataframe-read-in-from-csv-fil"
   ]
  },
  {
   "cell_type": "code",
   "execution_count": 59,
   "id": "ca21a372",
   "metadata": {},
   "outputs": [
    {
     "data": {
      "text/plain": [
       "'C:\\\\Users\\\\mocid\\\\Ironhack\\\\labs\\\\lab-apis\\\\your-code'"
      ]
     },
     "execution_count": 59,
     "metadata": {},
     "output_type": "execute_result"
    }
   ],
   "source": [
    "pwd"
   ]
  },
  {
   "cell_type": "code",
   "execution_count": 60,
   "id": "c5892f84",
   "metadata": {},
   "outputs": [],
   "source": [
    "df_dogs_facts.to_csv('.\\dogs_facts_dataframe.csv', index=False)"
   ]
  },
  {
   "cell_type": "code",
   "execution_count": null,
   "id": "4e9c44bd",
   "metadata": {},
   "outputs": [],
   "source": []
  }
 ],
 "metadata": {
  "kernelspec": {
   "display_name": "ironhack",
   "language": "python",
   "name": "ironhack"
  },
  "language_info": {
   "codemirror_mode": {
    "name": "ipython",
    "version": 3
   },
   "file_extension": ".py",
   "mimetype": "text/x-python",
   "name": "python",
   "nbconvert_exporter": "python",
   "pygments_lexer": "ipython3",
   "version": "3.11.4"
  },
  "nbTranslate": {
   "displayLangs": [
    "en",
    "es"
   ],
   "hotkey": "alt-a",
   "langInMainMenu": true,
   "sourceLang": "es",
   "targetLang": "en",
   "useGoogleTranslate": true
  },
  "toc": {
   "base_numbering": 1,
   "nav_menu": {},
   "number_sections": true,
   "sideBar": true,
   "skip_h1_title": false,
   "title_cell": "Table of Contents",
   "title_sidebar": "Contents",
   "toc_cell": false,
   "toc_position": {},
   "toc_section_display": true,
   "toc_window_display": false
  }
 },
 "nbformat": 4,
 "nbformat_minor": 5
}
