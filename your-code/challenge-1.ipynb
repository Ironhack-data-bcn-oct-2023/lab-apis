{
 "cells": [
  {
   "cell_type": "markdown",
   "id": "b25842d6",
   "metadata": {},
   "source": [
    "# Import the necessary libraries: pandas & requests"
   ]
  },
  {
   "cell_type": "code",
   "execution_count": 43,
   "id": "215eb6bc",
   "metadata": {},
   "outputs": [],
   "source": [
    "import requests\n",
    "import pandas as pd\n",
    "from pandas import json_normalize\n",
    "import json\n",
    "from datetime import datetime\n",
    "\n"
   ]
  },
  {
   "cell_type": "markdown",
   "id": "416a4caf",
   "metadata": {},
   "source": [
    "# Go on to this website: `https://kinduff.github.io/dog-api/`. Read the docs. "
   ]
  },
  {
   "cell_type": "markdown",
   "id": "bb949a18",
   "metadata": {},
   "source": [
    "## Build the `url_for_request`. This will be the result of: reading the docs 🙃. "
   ]
  },
  {
   "cell_type": "markdown",
   "id": "543e6c0d",
   "metadata": {},
   "source": [
    "Hint: there's a `base_url` to which you need to add another `endpoint`. Call the resulting string `url_for_request`"
   ]
  },
  {
   "cell_type": "code",
   "execution_count": 8,
   "id": "8c147eb7",
   "metadata": {},
   "outputs": [],
   "source": []
  },
  {
   "cell_type": "code",
   "execution_count": 44,
   "id": "c503211c",
   "metadata": {},
   "outputs": [],
   "source": [
    "\n",
    "base_url = 'http://dog-api.kinduff.com/'\n",
    "endpoint = 'api/facts'\n",
    "url_for_request = base_url+endpoint\n",
    "\n",
    "\n"
   ]
  },
  {
   "cell_type": "code",
   "execution_count": 45,
   "id": "e8563709",
   "metadata": {},
   "outputs": [],
   "source": [
    "# Your code here"
   ]
  },
  {
   "cell_type": "markdown",
   "id": "c5f33f0f",
   "metadata": {},
   "source": [
    "# Do one request using the `url_for_request`. Make sure it's read as a json."
   ]
  },
  {
   "cell_type": "code",
   "execution_count": 46,
   "id": "311d0c28",
   "metadata": {},
   "outputs": [
    {
     "name": "stdout",
     "output_type": "stream",
     "text": [
      "{'facts': ['Dogs judge objects first by their movement, then by their brightness, and lastly by their shape.'], 'success': True}\n"
     ]
    }
   ],
   "source": [
    "res = requests.get(url_for_request)\n",
    "content = (res.json())\n",
    "print(content)"
   ]
  },
  {
   "cell_type": "markdown",
   "id": "1bfb3a80",
   "metadata": {},
   "source": [
    "# Great! Now: encapsulate"
   ]
  },
  {
   "cell_type": "markdown",
   "id": "d72434d8",
   "metadata": {},
   "source": [
    "- Create a function whith the name: `request_dog_facts`\n",
    "- It should not take any argument\n",
    "- It should return one dictionary with the information requested\n"
   ]
  },
  {
   "cell_type": "code",
   "execution_count": 47,
   "id": "e7dc2129",
   "metadata": {},
   "outputs": [
    {
     "data": {
      "text/plain": [
       "{'facts': ['A person should never kick a dog facing him or her. Some dogs can bite 10 times before a human can respond.'],\n",
       " 'success': True}"
      ]
     },
     "execution_count": 47,
     "metadata": {},
     "output_type": "execute_result"
    }
   ],
   "source": [
    "def request_dog_facts():\n",
    "    base_url = 'http://dog-api.kinduff.com/'\n",
    "    endpoint = 'api/facts'\n",
    "    url_for_request = base_url+endpoint\n",
    "    res = requests.get(url_for_request)\n",
    "    content = (res.json())\n",
    "    return content\n",
    "\n",
    "dict_dog = request_dog_facts()\n",
    "dict_dog"
   ]
  },
  {
   "cell_type": "markdown",
   "id": "5c01f4ce",
   "metadata": {},
   "source": [
    "# APIs may be faulty when requesting many times: make sure you implement a try & except to cover for that."
   ]
  },
  {
   "cell_type": "markdown",
   "id": "ae0d7596",
   "metadata": {},
   "source": [
    "If the request doesn't work, make sure you return a message"
   ]
  },
  {
   "cell_type": "code",
   "execution_count": 48,
   "id": "9263e7c8",
   "metadata": {},
   "outputs": [
    {
     "data": {
      "text/plain": [
       "{'facts': ['Search and Rescue dog training begin as games played while puppies.'],\n",
       " 'success': True}"
      ]
     },
     "execution_count": 48,
     "metadata": {},
     "output_type": "execute_result"
    }
   ],
   "source": [
    "def request_dog_facts():\n",
    "\n",
    "    try: \n",
    "        base_url = 'http://dog-api.kinduff.com/'\n",
    "        endpoint = 'api/facts'\n",
    "        url_for_request = base_url+endpoint\n",
    "        res = requests.get(url_for_request)\n",
    "        content = (res.json())\n",
    "        return content\n",
    "    except:\n",
    "        print(\"An error has occurred with API\")\n",
    "\n",
    "dict_dog = request_dog_facts()\n",
    "dict_dog"
   ]
  },
  {
   "cell_type": "markdown",
   "id": "b201a536",
   "metadata": {},
   "source": [
    "# We now want to get as the day of the month today: eg.: if current month is october we'll make 10  requests"
   ]
  },
  {
   "cell_type": "markdown",
   "id": "b9ee1515",
   "metadata": {},
   "source": [
    "Create a variable called `current_month`. Using the imported library in the first cell, save today's day."
   ]
  },
  {
   "cell_type": "code",
   "execution_count": 49,
   "id": "1e7947fe",
   "metadata": {},
   "outputs": [
    {
     "data": {
      "text/plain": [
       "10"
      ]
     },
     "execution_count": 49,
     "metadata": {},
     "output_type": "execute_result"
    }
   ],
   "source": [
    "\n",
    "month = int(datetime.now().strftime(\"%m\"))\n",
    "month"
   ]
  },
  {
   "cell_type": "markdown",
   "id": "79f81f5f",
   "metadata": {},
   "source": [
    "# If `todays_date` is 27, create a list with 27 dictionaries reusing the function you just created: `request_dog_facts`. List should be called: `dogs_facts`. Do this using a comprehension list"
   ]
  },
  {
   "cell_type": "code",
   "execution_count": 50,
   "id": "731959ec",
   "metadata": {},
   "outputs": [],
   "source": [
    "todays_date = int(datetime.now().strftime(\"%d\"))\n",
    "\n",
    "list_dict = [request_dog_facts() for _ in range(todays_date)]\n",
    "print(list_dict)"
   ]
  },
  {
   "cell_type": "markdown",
   "id": "ec3a47d4",
   "metadata": {},
   "source": [
    "# Build a DF. You have a list of dictionaries, should be easy!"
   ]
  },
  {
   "cell_type": "code",
   "execution_count": null,
   "id": "d22652ed",
   "metadata": {},
   "outputs": [
    {
     "name": "stdout",
     "output_type": "stream",
     "text": [
      "                                                facts  success\n",
      "0   [The Chihuahua was named after the state in Me...     True\n",
      "1   [In Croatia, scientists discovered that lamppo...     True\n",
      "2   [An American Animal Hospital Association poll ...     True\n",
      "3   [Dachshunds were originally bred to fight badg...     True\n",
      "4   [No, it’s not just to make themselves look ado...     True\n",
      "5   [All dogs can be traced back 40 million years ...     True\n",
      "6   [A person should never kick a dog facing him o...     True\n",
      "7      [Dalmatian puppies are born completely white.]     True\n",
      "8   [A dog’s pregnancy lasts for approximately 60 ...     True\n",
      "9   [Dogs aren't colorblind but their eyes don't h...     True\n",
      "10  [Dogs can see in color, though they most likel...     True\n",
      "11  [The best age to bring a puppy home is 8 to 12...     True\n",
      "12  [President Theodore Roosevelt's Bull Terrier P...     True\n",
      "13  [Dogs do not have an appendix. Why haven’t hum...     True\n",
      "14  [Perky-eared dogs hear sounds better than flop...     True\n",
      "15  [Express yourself. Dogs’ ears are extremely ex...     True\n",
      "16  [There are nearly 14,000 animal shelters and r...     True\n",
      "17  [A dog can locate the source of a sound in 1/6...     True\n",
      "18  [When dogs copulate, it is very normal for the...     True\n",
      "19  [The Beatles song \"A day in the Life\" has an e...     True\n",
      "20  [Hollywood’s first and arguably best canine su...     True\n",
      "21  [U.S. Customs dogs \"Rocky\" and \"Barco\" were so...     True\n",
      "22  [The most popular dog breed in Canada, U.S., a...     True\n",
      "23  [Unlike cats, dogs are not exclusively carnivo...     True\n",
      "24  [Humans generally see better than dogs, but do...     True\n",
      "25  [The Norwegian Lundehund is the only dog with ...     True\n",
      "26  [Dog trainers in ancient China were held in hi...     True\n"
     ]
    }
   ],
   "source": [
    "df = pd.DataFrame(list_dict)\n",
    "print(df)"
   ]
  },
  {
   "cell_type": "markdown",
   "id": "9f401ae3",
   "metadata": {},
   "source": [
    "# Modify the previous table, using a lambda function, so you modify the column data to have the same column but with the element instead of the list with that one element"
   ]
  },
  {
   "cell_type": "code",
   "execution_count": null,
   "id": "b29f4826",
   "metadata": {},
   "outputs": [
    {
     "data": {
      "text/html": [
       "<div>\n",
       "<style scoped>\n",
       "    .dataframe tbody tr th:only-of-type {\n",
       "        vertical-align: middle;\n",
       "    }\n",
       "\n",
       "    .dataframe tbody tr th {\n",
       "        vertical-align: top;\n",
       "    }\n",
       "\n",
       "    .dataframe thead th {\n",
       "        text-align: right;\n",
       "    }\n",
       "</style>\n",
       "<table border=\"1\" class=\"dataframe\">\n",
       "  <thead>\n",
       "    <tr style=\"text-align: right;\">\n",
       "      <th></th>\n",
       "      <th>facts</th>\n",
       "      <th>success</th>\n",
       "    </tr>\n",
       "  </thead>\n",
       "  <tbody>\n",
       "    <tr>\n",
       "      <th>0</th>\n",
       "      <td>The Chihuahua was named after the state in Mex...</td>\n",
       "      <td>True</td>\n",
       "    </tr>\n",
       "    <tr>\n",
       "      <th>1</th>\n",
       "      <td>In Croatia, scientists discovered that lamppos...</td>\n",
       "      <td>True</td>\n",
       "    </tr>\n",
       "    <tr>\n",
       "      <th>2</th>\n",
       "      <td>An American Animal Hospital Association poll f...</td>\n",
       "      <td>True</td>\n",
       "    </tr>\n",
       "    <tr>\n",
       "      <th>3</th>\n",
       "      <td>Dachshunds were originally bred to fight badgers.</td>\n",
       "      <td>True</td>\n",
       "    </tr>\n",
       "    <tr>\n",
       "      <th>4</th>\n",
       "      <td>No, it’s not just to make themselves look ador...</td>\n",
       "      <td>True</td>\n",
       "    </tr>\n",
       "    <tr>\n",
       "      <th>5</th>\n",
       "      <td>All dogs can be traced back 40 million years a...</td>\n",
       "      <td>True</td>\n",
       "    </tr>\n",
       "    <tr>\n",
       "      <th>6</th>\n",
       "      <td>A person should never kick a dog facing him or...</td>\n",
       "      <td>True</td>\n",
       "    </tr>\n",
       "    <tr>\n",
       "      <th>7</th>\n",
       "      <td>Dalmatian puppies are born completely white.</td>\n",
       "      <td>True</td>\n",
       "    </tr>\n",
       "    <tr>\n",
       "      <th>8</th>\n",
       "      <td>A dog’s pregnancy lasts for approximately 60 d...</td>\n",
       "      <td>True</td>\n",
       "    </tr>\n",
       "    <tr>\n",
       "      <th>9</th>\n",
       "      <td>Dogs aren't colorblind but their eyes don't ha...</td>\n",
       "      <td>True</td>\n",
       "    </tr>\n",
       "    <tr>\n",
       "      <th>10</th>\n",
       "      <td>Dogs can see in color, though they most likely...</td>\n",
       "      <td>True</td>\n",
       "    </tr>\n",
       "    <tr>\n",
       "      <th>11</th>\n",
       "      <td>The best age to bring a puppy home is 8 to 12 ...</td>\n",
       "      <td>True</td>\n",
       "    </tr>\n",
       "    <tr>\n",
       "      <th>12</th>\n",
       "      <td>President Theodore Roosevelt's Bull Terrier Pe...</td>\n",
       "      <td>True</td>\n",
       "    </tr>\n",
       "    <tr>\n",
       "      <th>13</th>\n",
       "      <td>Dogs do not have an appendix. Why haven’t huma...</td>\n",
       "      <td>True</td>\n",
       "    </tr>\n",
       "    <tr>\n",
       "      <th>14</th>\n",
       "      <td>Perky-eared dogs hear sounds better than flopp...</td>\n",
       "      <td>True</td>\n",
       "    </tr>\n",
       "    <tr>\n",
       "      <th>15</th>\n",
       "      <td>Express yourself. Dogs’ ears are extremely exp...</td>\n",
       "      <td>True</td>\n",
       "    </tr>\n",
       "    <tr>\n",
       "      <th>16</th>\n",
       "      <td>There are nearly 14,000 animal shelters and re...</td>\n",
       "      <td>True</td>\n",
       "    </tr>\n",
       "    <tr>\n",
       "      <th>17</th>\n",
       "      <td>A dog can locate the source of a sound in 1/60...</td>\n",
       "      <td>True</td>\n",
       "    </tr>\n",
       "    <tr>\n",
       "      <th>18</th>\n",
       "      <td>When dogs copulate, it is very normal for them...</td>\n",
       "      <td>True</td>\n",
       "    </tr>\n",
       "    <tr>\n",
       "      <th>19</th>\n",
       "      <td>The Beatles song \"A day in the Life\" has an ex...</td>\n",
       "      <td>True</td>\n",
       "    </tr>\n",
       "    <tr>\n",
       "      <th>20</th>\n",
       "      <td>Hollywood’s first and arguably best canine sup...</td>\n",
       "      <td>True</td>\n",
       "    </tr>\n",
       "    <tr>\n",
       "      <th>21</th>\n",
       "      <td>U.S. Customs dogs \"Rocky\" and \"Barco\" were so ...</td>\n",
       "      <td>True</td>\n",
       "    </tr>\n",
       "    <tr>\n",
       "      <th>22</th>\n",
       "      <td>The most popular dog breed in Canada, U.S., an...</td>\n",
       "      <td>True</td>\n",
       "    </tr>\n",
       "    <tr>\n",
       "      <th>23</th>\n",
       "      <td>Unlike cats, dogs are not exclusively carnivor...</td>\n",
       "      <td>True</td>\n",
       "    </tr>\n",
       "    <tr>\n",
       "      <th>24</th>\n",
       "      <td>Humans generally see better than dogs, but dog...</td>\n",
       "      <td>True</td>\n",
       "    </tr>\n",
       "    <tr>\n",
       "      <th>25</th>\n",
       "      <td>The Norwegian Lundehund is the only dog with s...</td>\n",
       "      <td>True</td>\n",
       "    </tr>\n",
       "    <tr>\n",
       "      <th>26</th>\n",
       "      <td>Dog trainers in ancient China were held in hig...</td>\n",
       "      <td>True</td>\n",
       "    </tr>\n",
       "  </tbody>\n",
       "</table>\n",
       "</div>"
      ],
      "text/plain": [
       "                                                facts  success\n",
       "0   The Chihuahua was named after the state in Mex...     True\n",
       "1   In Croatia, scientists discovered that lamppos...     True\n",
       "2   An American Animal Hospital Association poll f...     True\n",
       "3   Dachshunds were originally bred to fight badgers.     True\n",
       "4   No, it’s not just to make themselves look ador...     True\n",
       "5   All dogs can be traced back 40 million years a...     True\n",
       "6   A person should never kick a dog facing him or...     True\n",
       "7        Dalmatian puppies are born completely white.     True\n",
       "8   A dog’s pregnancy lasts for approximately 60 d...     True\n",
       "9   Dogs aren't colorblind but their eyes don't ha...     True\n",
       "10  Dogs can see in color, though they most likely...     True\n",
       "11  The best age to bring a puppy home is 8 to 12 ...     True\n",
       "12  President Theodore Roosevelt's Bull Terrier Pe...     True\n",
       "13  Dogs do not have an appendix. Why haven’t huma...     True\n",
       "14  Perky-eared dogs hear sounds better than flopp...     True\n",
       "15  Express yourself. Dogs’ ears are extremely exp...     True\n",
       "16  There are nearly 14,000 animal shelters and re...     True\n",
       "17  A dog can locate the source of a sound in 1/60...     True\n",
       "18  When dogs copulate, it is very normal for them...     True\n",
       "19  The Beatles song \"A day in the Life\" has an ex...     True\n",
       "20  Hollywood’s first and arguably best canine sup...     True\n",
       "21  U.S. Customs dogs \"Rocky\" and \"Barco\" were so ...     True\n",
       "22  The most popular dog breed in Canada, U.S., an...     True\n",
       "23  Unlike cats, dogs are not exclusively carnivor...     True\n",
       "24  Humans generally see better than dogs, but dog...     True\n",
       "25  The Norwegian Lundehund is the only dog with s...     True\n",
       "26  Dog trainers in ancient China were held in hig...     True"
      ]
     },
     "execution_count": 81,
     "metadata": {},
     "output_type": "execute_result"
    }
   ],
   "source": [
    "df[\"facts\"]= df[\"facts\"].apply(lambda x: x[0])\n",
    "\n",
    "df"
   ]
  },
  {
   "cell_type": "code",
   "execution_count": null,
   "id": "1086c456",
   "metadata": {},
   "outputs": [],
   "source": []
  },
  {
   "cell_type": "markdown",
   "id": "d3fb564c",
   "metadata": {},
   "source": [
    "# Save the dataframe into the data folder.  "
   ]
  },
  {
   "cell_type": "markdown",
   "id": "2b334e3d",
   "metadata": {},
   "source": [
    "Make sure you don't get that unnamed: 0 column. Hint: https://stackoverflow.com/questions/36519086/how-to-get-rid-of-unnamed-0-column-in-a-pandas-dataframe-read-in-from-csv-fil"
   ]
  },
  {
   "cell_type": "code",
   "execution_count": null,
   "id": "ca21a372",
   "metadata": {},
   "outputs": [],
   "source": [
    "df.to_csv(\"../data/facts_dogs.csv\")"
   ]
  },
  {
   "cell_type": "code",
   "execution_count": null,
   "id": "ee1743bc",
   "metadata": {},
   "outputs": [],
   "source": []
  }
 ],
 "metadata": {
  "kernelspec": {
   "display_name": "base",
   "language": "python",
   "name": "python3"
  },
  "language_info": {
   "codemirror_mode": {
    "name": "ipython",
    "version": 3
   },
   "file_extension": ".py",
   "mimetype": "text/x-python",
   "name": "python",
   "nbconvert_exporter": "python",
   "pygments_lexer": "ipython3",
   "version": "3.11.4"
  },
  "nbTranslate": {
   "displayLangs": [
    "en",
    "es"
   ],
   "hotkey": "alt-a",
   "langInMainMenu": true,
   "sourceLang": "es",
   "targetLang": "en",
   "useGoogleTranslate": true
  },
  "toc": {
   "base_numbering": 1,
   "nav_menu": {},
   "number_sections": true,
   "sideBar": true,
   "skip_h1_title": false,
   "title_cell": "Table of Contents",
   "title_sidebar": "Contents",
   "toc_cell": false,
   "toc_position": {},
   "toc_section_display": true,
   "toc_window_display": false
  }
 },
 "nbformat": 4,
 "nbformat_minor": 5
}
