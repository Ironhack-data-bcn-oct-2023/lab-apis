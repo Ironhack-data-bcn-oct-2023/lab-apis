{
 "cells": [
  {
   "cell_type": "markdown",
   "id": "00dfecb2",
   "metadata": {},
   "source": [
    "![Flos Mariae](https://e00-elmundo.uecdn.es/assets/multimedia/imagenes/2023/03/07/16781451615938.jpg)"
   ]
  },
  {
   "cell_type": "markdown",
   "id": "04e5b3f8",
   "metadata": {},
   "source": [
    "Some catholic pop to get into the mood: [Flos Mariae - Amén](https://www.youtube.com/watch?v=viQOBLF3AcY&themeRefresh=1)"
   ]
  },
  {
   "cell_type": "markdown",
   "id": "928711fd",
   "metadata": {},
   "source": [
    "The girls in Flos Mariae need your help. Their study sheets are incomplete and teachers told them to `google it` when they asked about verses. Help them complete their data. "
   ]
  },
  {
   "cell_type": "markdown",
   "id": "259c3d31",
   "metadata": {},
   "source": [
    "[Bible API](https://github.com/seven1m/bible_api)"
   ]
  },
  {
   "cell_type": "markdown",
   "id": "822517ff",
   "metadata": {},
   "source": [
    "[Bible documentation](https://bible-api.com/)"
   ]
  },
  {
   "cell_type": "markdown",
   "id": "b25842d6",
   "metadata": {},
   "source": [
    "# Import the necessary libraries: pandas & requests"
   ]
  },
  {
   "cell_type": "code",
   "execution_count": 1,
   "id": "215eb6bc",
   "metadata": {},
   "outputs": [],
   "source": [
    "import pandas as pd\n",
    "import requests\n",
    "import json\n",
    "import datetime"
   ]
  },
  {
   "cell_type": "markdown",
   "id": "dc555f58",
   "metadata": {},
   "source": [
    "# Load the bible.csv file on `data/` folder"
   ]
  },
  {
   "cell_type": "markdown",
   "id": "57834374",
   "metadata": {},
   "source": [
    "These are the incomplete study sheets of the Flos Mariae sisters. 👀 They know the references they need (book, chapter and verse) but lack the text information."
   ]
  },
  {
   "cell_type": "code",
   "execution_count": 13,
   "id": "6ba76753",
   "metadata": {},
   "outputs": [],
   "source": [
    "df = pd.read_csv(\"../data/bible.csv\")"
   ]
  },
  {
   "cell_type": "markdown",
   "id": "d78dd2c2",
   "metadata": {},
   "source": [
    "# Go on to this website: [Bible API documentation](https://bible-api.com/). Read the usage and given examples."
   ]
  },
  {
   "cell_type": "markdown",
   "id": "679830f3",
   "metadata": {},
   "source": [
    "## Build the `url_for_request` for a single reference: book, chapter and verse. This will be the result of: reading the API documentation 🙃. "
   ]
  },
  {
   "cell_type": "markdown",
   "id": "20098873",
   "metadata": {},
   "source": [
    "Hint: there's a `base_url` to which you need to add another `endpoint`. Call the resulting string `url_for_request`"
   ]
  },
  {
   "cell_type": "code",
   "execution_count": 14,
   "id": "8ab21dfb",
   "metadata": {},
   "outputs": [
    {
     "data": {
      "text/plain": [
       "{'reference': 'John 3:16',\n",
       " 'verses': [{'book_id': 'JHN',\n",
       "   'book_name': 'John',\n",
       "   'chapter': 3,\n",
       "   'verse': 16,\n",
       "   'text': '\\nFor God so loved the world, that he gave his one and only Son, that whoever believes in him should not perish, but have eternal life.\\n\\n'}],\n",
       " 'text': '\\nFor God so loved the world, that he gave his one and only Son, that whoever believes in him should not perish, but have eternal life.\\n\\n',\n",
       " 'translation_id': 'web',\n",
       " 'translation_name': 'World English Bible',\n",
       " 'translation_note': 'Public Domain'}"
      ]
     },
     "execution_count": 14,
     "metadata": {},
     "output_type": "execute_result"
    }
   ],
   "source": [
    "base_url = \"https://bible-api.com\"\n",
    "endpoint = \"/john 3:16\"\n",
    "url_for_request = base_url + endpoint\n",
    "res = requests.get(url_for_request).json()\n",
    "res"
   ]
  },
  {
   "cell_type": "markdown",
   "id": "d3fb564c",
   "metadata": {},
   "source": [
    "# Great! 💥 We have some information. Now, we want to clean it up to get only the text that corresponds to the reference we are looking for."
   ]
  },
  {
   "cell_type": "code",
   "execution_count": 15,
   "id": "5ac1bcd2",
   "metadata": {},
   "outputs": [
    {
     "data": {
      "text/plain": [
       "'For God so loved the world, that he gave his one and only Son, that whoever believes in him should not perish, but have eternal life.'"
      ]
     },
     "execution_count": 15,
     "metadata": {},
     "output_type": "execute_result"
    }
   ],
   "source": [
    "text = res[\"text\"].strip()\n",
    "text"
   ]
  },
  {
   "cell_type": "markdown",
   "id": "a283a243",
   "metadata": {},
   "source": [
    "# Now we want to obtain the information of all the necessary references in the study sheets."
   ]
  },
  {
   "cell_type": "markdown",
   "id": "df0e9c9e",
   "metadata": {},
   "source": [
    "Hint: book, chapter and verse `actual columns` will be the `argument` to pass to the endpoint of the url_for_request. The `text results` from the API call, will be a `new column` of the dataframe."
   ]
  },
  {
   "cell_type": "code",
   "execution_count": 16,
   "id": "753bd271",
   "metadata": {},
   "outputs": [],
   "source": [
    "# I understood the exercise as creating a function to get the text given a book, chapter and verse:\n",
    "def getText(book, chapter, verse):\n",
    "    df[\"Nueva_columna\"] = df[\"Book\"] + \" \" + df[\"Chapter\"].apply(lambda x: str(x)) + \":\" + df[\"Verse\"].apply(lambda x: str(x))\n",
    "    endpointdf = pd.Series(df[\"Nueva_columna\"].loc[(df[\"Book\"] == book) & (df[\"Chapter\"] == chapter) & (df[\"Verse\"] == verse)])\n",
    "    df.drop(\"Nueva_columna\", axis=1, inplace=True)\n",
    "    endpoint = \"/\" + endpointdf.values[0]\n",
    "    url_for_request = \"https://bible-api.com\" + endpoint\n",
    "    res = requests.get(url_for_request).json()\n",
    "    text = res[\"text\"].strip()\n",
    "    return text"
   ]
  },
  {
   "cell_type": "code",
   "execution_count": 17,
   "id": "8c018c77",
   "metadata": {},
   "outputs": [
    {
     "data": {
      "text/plain": [
       "'Blessed are those who have been persecuted for righteousness’ sake,\\n\\nfor theirs is the Kingdom of Heaven.'"
      ]
     },
     "execution_count": 17,
     "metadata": {},
     "output_type": "execute_result"
    }
   ],
   "source": [
    "getText(\"Matthew\", 5, 10)"
   ]
  },
  {
   "cell_type": "code",
   "execution_count": 20,
   "id": "1271ad84",
   "metadata": {},
   "outputs": [],
   "source": [
    "# As later it asks to save a dataframe, I create a new column with given texts:\n",
    "\n",
    "# I tried the following loop, also tried looping manually. Sometimes it works, I think that the errors arising had to do\n",
    "# with the time response?\n",
    "\n",
    "for i in range(df.shape[0]):\n",
    "    df.loc[i, \"Texts\"] = getText(df.loc[i, \"Book\"], df.loc[i, \"Chapter\"], df.loc[i, \"Verse\"])"
   ]
  },
  {
   "cell_type": "code",
   "execution_count": 19,
   "id": "bfc9f5bd",
   "metadata": {
    "scrolled": true
   },
   "outputs": [
    {
     "data": {
      "text/html": [
       "<div>\n",
       "<style scoped>\n",
       "    .dataframe tbody tr th:only-of-type {\n",
       "        vertical-align: middle;\n",
       "    }\n",
       "\n",
       "    .dataframe tbody tr th {\n",
       "        vertical-align: top;\n",
       "    }\n",
       "\n",
       "    .dataframe thead th {\n",
       "        text-align: right;\n",
       "    }\n",
       "</style>\n",
       "<table border=\"1\" class=\"dataframe\">\n",
       "  <thead>\n",
       "    <tr style=\"text-align: right;\">\n",
       "      <th></th>\n",
       "      <th>Name</th>\n",
       "      <th>Role</th>\n",
       "      <th>Book</th>\n",
       "      <th>Chapter</th>\n",
       "      <th>Verse</th>\n",
       "      <th>Texts</th>\n",
       "    </tr>\n",
       "  </thead>\n",
       "  <tbody>\n",
       "    <tr>\n",
       "      <th>0</th>\n",
       "      <td>Adam</td>\n",
       "      <td>First Man</td>\n",
       "      <td>Genesis</td>\n",
       "      <td>1</td>\n",
       "      <td>1</td>\n",
       "      <td>In the beginning, God created the heavens and ...</td>\n",
       "    </tr>\n",
       "    <tr>\n",
       "      <th>1</th>\n",
       "      <td>Eve</td>\n",
       "      <td>First Woman</td>\n",
       "      <td>Genesis</td>\n",
       "      <td>22</td>\n",
       "      <td>5</td>\n",
       "      <td>Abraham said to his young men, “Stay here with...</td>\n",
       "    </tr>\n",
       "    <tr>\n",
       "      <th>2</th>\n",
       "      <td>Noah</td>\n",
       "      <td>Builder of the Ark</td>\n",
       "      <td>Genesis</td>\n",
       "      <td>12</td>\n",
       "      <td>10</td>\n",
       "      <td>There was a famine in the land. Abram went dow...</td>\n",
       "    </tr>\n",
       "    <tr>\n",
       "      <th>3</th>\n",
       "      <td>Abraham</td>\n",
       "      <td>Father of Nations</td>\n",
       "      <td>Genesis</td>\n",
       "      <td>6</td>\n",
       "      <td>15</td>\n",
       "      <td>This is how you shall make it. The length of t...</td>\n",
       "    </tr>\n",
       "    <tr>\n",
       "      <th>4</th>\n",
       "      <td>Sarah</td>\n",
       "      <td>Wife of Abraham</td>\n",
       "      <td>Genesis</td>\n",
       "      <td>28</td>\n",
       "      <td>2</td>\n",
       "      <td>Arise, go to Paddan Aram, to the house of Beth...</td>\n",
       "    </tr>\n",
       "    <tr>\n",
       "      <th>5</th>\n",
       "      <td>Moses</td>\n",
       "      <td>Leader of the Exodus</td>\n",
       "      <td>Exodus</td>\n",
       "      <td>2</td>\n",
       "      <td>3</td>\n",
       "      <td>When she could no longer hide him, she took a ...</td>\n",
       "    </tr>\n",
       "    <tr>\n",
       "      <th>6</th>\n",
       "      <td>Aaron</td>\n",
       "      <td>Brother of Moses</td>\n",
       "      <td>Exodus</td>\n",
       "      <td>13</td>\n",
       "      <td>8</td>\n",
       "      <td>You shall tell your son in that day, saying, ‘...</td>\n",
       "    </tr>\n",
       "    <tr>\n",
       "      <th>7</th>\n",
       "      <td>David</td>\n",
       "      <td>King of Israel</td>\n",
       "      <td>1 Samuel</td>\n",
       "      <td>8</td>\n",
       "      <td>4</td>\n",
       "      <td>Then all the elders of Israel gathered themsel...</td>\n",
       "    </tr>\n",
       "    <tr>\n",
       "      <th>8</th>\n",
       "      <td>Solomon</td>\n",
       "      <td>Wisest Man</td>\n",
       "      <td>Proverbs</td>\n",
       "      <td>12</td>\n",
       "      <td>9</td>\n",
       "      <td>Better is he who is little know, and has a ser...</td>\n",
       "    </tr>\n",
       "    <tr>\n",
       "      <th>9</th>\n",
       "      <td>Isaiah</td>\n",
       "      <td>Prophet</td>\n",
       "      <td>Isaiah</td>\n",
       "      <td>4</td>\n",
       "      <td>6</td>\n",
       "      <td>There will be a pavilion for a shade in the da...</td>\n",
       "    </tr>\n",
       "    <tr>\n",
       "      <th>10</th>\n",
       "      <td>Jeremiah</td>\n",
       "      <td>Prophet</td>\n",
       "      <td>Jeremiah</td>\n",
       "      <td>3</td>\n",
       "      <td>16</td>\n",
       "      <td>It will come to pass, when you are multiplied ...</td>\n",
       "    </tr>\n",
       "    <tr>\n",
       "      <th>11</th>\n",
       "      <td>John the Baptist</td>\n",
       "      <td>Forerunner of Jesus</td>\n",
       "      <td>Matthew</td>\n",
       "      <td>12</td>\n",
       "      <td>5</td>\n",
       "      <td>Or have you not read in the law, that on the S...</td>\n",
       "    </tr>\n",
       "    <tr>\n",
       "      <th>12</th>\n",
       "      <td>Jesus Christ</td>\n",
       "      <td>Son of God</td>\n",
       "      <td>Matthew</td>\n",
       "      <td>5</td>\n",
       "      <td>10</td>\n",
       "      <td>Blessed are those who have been persecuted for...</td>\n",
       "    </tr>\n",
       "    <tr>\n",
       "      <th>13</th>\n",
       "      <td>Mary</td>\n",
       "      <td>Mother of Jesus</td>\n",
       "      <td>Luke</td>\n",
       "      <td>6</td>\n",
       "      <td>15</td>\n",
       "      <td>Matthew; Thomas; James, the son of Alphaeus; S...</td>\n",
       "    </tr>\n",
       "    <tr>\n",
       "      <th>14</th>\n",
       "      <td>Peter</td>\n",
       "      <td>Apostle</td>\n",
       "      <td>Matthew</td>\n",
       "      <td>4</td>\n",
       "      <td>2</td>\n",
       "      <td>When he had fasted forty days and forty nights...</td>\n",
       "    </tr>\n",
       "    <tr>\n",
       "      <th>15</th>\n",
       "      <td>Andrew</td>\n",
       "      <td>Apostle</td>\n",
       "      <td>Matthew</td>\n",
       "      <td>3</td>\n",
       "      <td>3</td>\n",
       "      <td>For this is he who was spoken of by Isaiah the...</td>\n",
       "    </tr>\n",
       "    <tr>\n",
       "      <th>16</th>\n",
       "      <td>James the Greater</td>\n",
       "      <td>Apostle</td>\n",
       "      <td>Matthew</td>\n",
       "      <td>5</td>\n",
       "      <td>8</td>\n",
       "      <td>Blessed are the pure in heart,\\nfor they shall...</td>\n",
       "    </tr>\n",
       "    <tr>\n",
       "      <th>17</th>\n",
       "      <td>John the Evangelist</td>\n",
       "      <td>Apostle</td>\n",
       "      <td>John</td>\n",
       "      <td>3</td>\n",
       "      <td>4</td>\n",
       "      <td>Nicodemus said to him, “How can a man be born ...</td>\n",
       "    </tr>\n",
       "    <tr>\n",
       "      <th>18</th>\n",
       "      <td>Philip</td>\n",
       "      <td>Apostle</td>\n",
       "      <td>Matthew</td>\n",
       "      <td>6</td>\n",
       "      <td>9</td>\n",
       "      <td>Pray like this: ‘Our Father in heaven, may you...</td>\n",
       "    </tr>\n",
       "    <tr>\n",
       "      <th>19</th>\n",
       "      <td>Thomas</td>\n",
       "      <td>Apostle</td>\n",
       "      <td>Matthew</td>\n",
       "      <td>4</td>\n",
       "      <td>6</td>\n",
       "      <td>and said to him, “If you are the Son of God, t...</td>\n",
       "    </tr>\n",
       "    <tr>\n",
       "      <th>20</th>\n",
       "      <td>James the Lesser</td>\n",
       "      <td>Apostle</td>\n",
       "      <td>Matthew</td>\n",
       "      <td>18</td>\n",
       "      <td>9</td>\n",
       "      <td>If your eye causes you to stumble, pluck it ou...</td>\n",
       "    </tr>\n",
       "    <tr>\n",
       "      <th>21</th>\n",
       "      <td>Jude Thaddeus</td>\n",
       "      <td>Apostle</td>\n",
       "      <td>Matthew</td>\n",
       "      <td>9</td>\n",
       "      <td>12</td>\n",
       "      <td>When Jesus heard it, he said to them,\\n“Those ...</td>\n",
       "    </tr>\n",
       "    <tr>\n",
       "      <th>22</th>\n",
       "      <td>Simon the Zealot</td>\n",
       "      <td>Apostle</td>\n",
       "      <td>Matthew</td>\n",
       "      <td>27</td>\n",
       "      <td>3</td>\n",
       "      <td>Then Judas, who betrayed him, when he saw that...</td>\n",
       "    </tr>\n",
       "    <tr>\n",
       "      <th>23</th>\n",
       "      <td>Bartholomew</td>\n",
       "      <td>Apostle</td>\n",
       "      <td>Matthew</td>\n",
       "      <td>6</td>\n",
       "      <td>2</td>\n",
       "      <td>Therefore when you do merciful deeds, don’t so...</td>\n",
       "    </tr>\n",
       "  </tbody>\n",
       "</table>\n",
       "</div>"
      ],
      "text/plain": [
       "                   Name                  Role      Book  Chapter  Verse  \\\n",
       "0                  Adam             First Man   Genesis        1      1   \n",
       "1                   Eve           First Woman   Genesis       22      5   \n",
       "2                  Noah    Builder of the Ark   Genesis       12     10   \n",
       "3               Abraham     Father of Nations   Genesis        6     15   \n",
       "4                 Sarah       Wife of Abraham   Genesis       28      2   \n",
       "5                 Moses  Leader of the Exodus    Exodus        2      3   \n",
       "6                 Aaron      Brother of Moses    Exodus       13      8   \n",
       "7                 David        King of Israel  1 Samuel        8      4   \n",
       "8               Solomon            Wisest Man  Proverbs       12      9   \n",
       "9                Isaiah               Prophet    Isaiah        4      6   \n",
       "10             Jeremiah               Prophet  Jeremiah        3     16   \n",
       "11     John the Baptist   Forerunner of Jesus   Matthew       12      5   \n",
       "12         Jesus Christ            Son of God   Matthew        5     10   \n",
       "13                 Mary       Mother of Jesus      Luke        6     15   \n",
       "14                Peter               Apostle   Matthew        4      2   \n",
       "15               Andrew               Apostle   Matthew        3      3   \n",
       "16    James the Greater               Apostle   Matthew        5      8   \n",
       "17  John the Evangelist               Apostle      John        3      4   \n",
       "18               Philip               Apostle   Matthew        6      9   \n",
       "19               Thomas               Apostle   Matthew        4      6   \n",
       "20     James the Lesser               Apostle   Matthew       18      9   \n",
       "21        Jude Thaddeus               Apostle   Matthew        9     12   \n",
       "22     Simon the Zealot               Apostle   Matthew       27      3   \n",
       "23          Bartholomew               Apostle   Matthew        6      2   \n",
       "\n",
       "                                                Texts  \n",
       "0   In the beginning, God created the heavens and ...  \n",
       "1   Abraham said to his young men, “Stay here with...  \n",
       "2   There was a famine in the land. Abram went dow...  \n",
       "3   This is how you shall make it. The length of t...  \n",
       "4   Arise, go to Paddan Aram, to the house of Beth...  \n",
       "5   When she could no longer hide him, she took a ...  \n",
       "6   You shall tell your son in that day, saying, ‘...  \n",
       "7   Then all the elders of Israel gathered themsel...  \n",
       "8   Better is he who is little know, and has a ser...  \n",
       "9   There will be a pavilion for a shade in the da...  \n",
       "10  It will come to pass, when you are multiplied ...  \n",
       "11  Or have you not read in the law, that on the S...  \n",
       "12  Blessed are those who have been persecuted for...  \n",
       "13  Matthew; Thomas; James, the son of Alphaeus; S...  \n",
       "14  When he had fasted forty days and forty nights...  \n",
       "15  For this is he who was spoken of by Isaiah the...  \n",
       "16  Blessed are the pure in heart,\\nfor they shall...  \n",
       "17  Nicodemus said to him, “How can a man be born ...  \n",
       "18  Pray like this: ‘Our Father in heaven, may you...  \n",
       "19  and said to him, “If you are the Son of God, t...  \n",
       "20  If your eye causes you to stumble, pluck it ou...  \n",
       "21  When Jesus heard it, he said to them,\\n“Those ...  \n",
       "22  Then Judas, who betrayed him, when he saw that...  \n",
       "23  Therefore when you do merciful deeds, don’t so...  "
      ]
     },
     "execution_count": 19,
     "metadata": {},
     "output_type": "execute_result"
    }
   ],
   "source": [
    "df #The times that it worked, this is the result"
   ]
  },
  {
   "cell_type": "markdown",
   "id": "10600acf",
   "metadata": {},
   "source": [
    "## Save the dataframe into the data folder. "
   ]
  },
  {
   "cell_type": "markdown",
   "id": "2b334e3d",
   "metadata": {},
   "source": [
    "Make sure you don't get that unnamed: 0 column. Hint: https://stackoverflow.com/questions/36519086/how-to-get-rid-of-unnamed-0-column-in-a-pandas-dataframe-read-in-from-csv-fil"
   ]
  },
  {
   "cell_type": "code",
   "execution_count": 22,
   "id": "556829be",
   "metadata": {},
   "outputs": [],
   "source": [
    "df.to_csv(\"../data/bible_texts.csv\", index=False)"
   ]
  }
 ],
 "metadata": {
  "kernelspec": {
   "display_name": "ironhack",
   "language": "python",
   "name": "ironhack"
  },
  "language_info": {
   "codemirror_mode": {
    "name": "ipython",
    "version": 3
   },
   "file_extension": ".py",
   "mimetype": "text/x-python",
   "name": "python",
   "nbconvert_exporter": "python",
   "pygments_lexer": "ipython3",
   "version": "3.11.5"
  },
  "nbTranslate": {
   "displayLangs": [
    "en",
    "es"
   ],
   "hotkey": "alt-a",
   "langInMainMenu": true,
   "sourceLang": "es",
   "targetLang": "en",
   "useGoogleTranslate": true
  },
  "toc": {
   "base_numbering": 1,
   "nav_menu": {},
   "number_sections": true,
   "sideBar": true,
   "skip_h1_title": false,
   "title_cell": "Table of Contents",
   "title_sidebar": "Contents",
   "toc_cell": false,
   "toc_position": {},
   "toc_section_display": true,
   "toc_window_display": false
  }
 },
 "nbformat": 4,
 "nbformat_minor": 5
}
