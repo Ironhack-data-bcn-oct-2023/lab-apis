{
 "cells": [
  {
   "cell_type": "markdown",
   "id": "b25842d6",
   "metadata": {},
   "source": [
    "# Import the necessary libraries: pandas, requests & getpass."
   ]
  },
  {
   "cell_type": "code",
   "execution_count": 1,
   "id": "215eb6bc",
   "metadata": {},
   "outputs": [],
   "source": [
    "import requests\n",
    "import pandas as pd\n",
    "import getpass"
   ]
  },
  {
   "cell_type": "markdown",
   "id": "07845a2a",
   "metadata": {},
   "source": [
    "# Go on to this website: [Tomorrow API documentation - Weather Forecast](https://docs.tomorrow.io/reference/weather-forecast). Read the documentation and the usage. 🙃"
   ]
  },
  {
   "cell_type": "markdown",
   "id": "9531d908",
   "metadata": {},
   "source": [
    "Be aware of API request limits.  ⚠️ "
   ]
  },
  {
   "cell_type": "markdown",
   "id": "2fba017f",
   "metadata": {},
   "source": [
    "![image2](../image2.png)"
   ]
  },
  {
   "cell_type": "markdown",
   "id": "aaa6cbf4",
   "metadata": {},
   "source": [
    "#  After exploring how the API works. Generate a token and store it in a `'token'` variable using getpass. 🔐"
   ]
  },
  {
   "cell_type": "code",
   "execution_count": 12,
   "id": "7ea8624f",
   "metadata": {},
   "outputs": [],
   "source": [
    "token = getpass.getpass(\"Enter your token: \")"
   ]
  },
  {
   "cell_type": "markdown",
   "id": "a4df9b4a",
   "metadata": {},
   "source": [
    "# Now, choose the location where you want to browse the Weather Forecast and store it in a variable called ``location``. 📍"
   ]
  },
  {
   "cell_type": "code",
   "execution_count": 13,
   "id": "968e4e9c",
   "metadata": {},
   "outputs": [],
   "source": [
    "location = \"madrid\""
   ]
  },
  {
   "cell_type": "markdown",
   "id": "ef89e4cf",
   "metadata": {},
   "source": [
    "# The next step is to build the `url_for_request`.  You must parameterise it with your `location` and your `token`. "
   ]
  },
  {
   "cell_type": "code",
   "execution_count": 14,
   "id": "bdc7c366",
   "metadata": {},
   "outputs": [],
   "source": [
    "url = f\"https://api.tomorrow.io/v4/weather/history/recent?location={location}&apikey={token}\""
   ]
  },
  {
   "cell_type": "markdown",
   "id": "d93a6c92",
   "metadata": {},
   "source": [
    "# It's time to call the API. 📞 We need to get the `Weather Forecast` information for the chosen location."
   ]
  },
  {
   "cell_type": "code",
   "execution_count": 15,
   "id": "8355e9e6",
   "metadata": {},
   "outputs": [],
   "source": [
    "def get_weather_response (location, token):\n",
    "    url = f\"https://api.tomorrow.io/v4/weather/history/recent?location={location}&apikey={token}\"\n",
    "    headers = {\"accept\": \"application/json\"}\n",
    "    res = requests.get(url, headers=headers)\n",
    "    return res.json()"
   ]
  },
  {
   "cell_type": "code",
   "execution_count": 16,
   "id": "f8bf0716",
   "metadata": {},
   "outputs": [],
   "source": [
    "data = get_weather_response (location, token)"
   ]
  },
  {
   "cell_type": "markdown",
   "id": "59aaceb4",
   "metadata": {},
   "source": [
    "# Last step will be to turn it into a Dataframe! 🐼"
   ]
  },
  {
   "cell_type": "code",
   "execution_count": 17,
   "id": "107fe8a5",
   "metadata": {},
   "outputs": [],
   "source": [
    "all_data = []\n",
    "def get_responses_into_df (data):\n",
    "\n",
    "    for element in data:\n",
    "        response = data['timelines']['hourly']\n",
    "        location = data['location']['name']\n",
    "        for entry in response:\n",
    "            data_dict = entry['values']\n",
    "            data_dict['time'] = entry['time']\n",
    "            all_data.append(data_dict)\n",
    "            \n",
    "    df = pd.DataFrame(all_data)\n",
    "    df['location'] = data['location']['name']\n",
    "    \n",
    "    return df"
   ]
  },
  {
   "cell_type": "markdown",
   "id": "d99fe0fd",
   "metadata": {},
   "source": [
    "The result should look like this:"
   ]
  },
  {
   "cell_type": "markdown",
   "id": "890689e1",
   "metadata": {},
   "source": [
    "![image3](../image3.png)"
   ]
  },
  {
   "cell_type": "code",
   "execution_count": 18,
   "id": "788c6d98",
   "metadata": {},
   "outputs": [
    {
     "data": {
      "text/html": [
       "<div>\n",
       "<style scoped>\n",
       "    .dataframe tbody tr th:only-of-type {\n",
       "        vertical-align: middle;\n",
       "    }\n",
       "\n",
       "    .dataframe tbody tr th {\n",
       "        vertical-align: top;\n",
       "    }\n",
       "\n",
       "    .dataframe thead th {\n",
       "        text-align: right;\n",
       "    }\n",
       "</style>\n",
       "<table border=\"1\" class=\"dataframe\">\n",
       "  <thead>\n",
       "    <tr style=\"text-align: right;\">\n",
       "      <th></th>\n",
       "      <th>cloudBase</th>\n",
       "      <th>cloudCeiling</th>\n",
       "      <th>cloudCover</th>\n",
       "      <th>dewPoint</th>\n",
       "      <th>evapotranspiration</th>\n",
       "      <th>freezingRainIntensity</th>\n",
       "      <th>humidity</th>\n",
       "      <th>iceAccumulation</th>\n",
       "      <th>iceAccumulationLwe</th>\n",
       "      <th>precipitationProbability</th>\n",
       "      <th>...</th>\n",
       "      <th>temperatureApparent</th>\n",
       "      <th>uvHealthConcern</th>\n",
       "      <th>uvIndex</th>\n",
       "      <th>visibility</th>\n",
       "      <th>weatherCode</th>\n",
       "      <th>windDirection</th>\n",
       "      <th>windGust</th>\n",
       "      <th>windSpeed</th>\n",
       "      <th>time</th>\n",
       "      <th>location</th>\n",
       "    </tr>\n",
       "  </thead>\n",
       "  <tbody>\n",
       "    <tr>\n",
       "      <th>0</th>\n",
       "      <td>0.37</td>\n",
       "      <td>NaN</td>\n",
       "      <td>48</td>\n",
       "      <td>11.00</td>\n",
       "      <td>0.039</td>\n",
       "      <td>0</td>\n",
       "      <td>82</td>\n",
       "      <td>0</td>\n",
       "      <td>0</td>\n",
       "      <td>0</td>\n",
       "      <td>...</td>\n",
       "      <td>13.88</td>\n",
       "      <td>0</td>\n",
       "      <td>0</td>\n",
       "      <td>9.99</td>\n",
       "      <td>1101</td>\n",
       "      <td>199.63</td>\n",
       "      <td>9.13</td>\n",
       "      <td>4.63</td>\n",
       "      <td>2023-10-28T20:00:00Z</td>\n",
       "      <td>Madrid, Comunidad de Madrid, España</td>\n",
       "    </tr>\n",
       "    <tr>\n",
       "      <th>1</th>\n",
       "      <td>0.37</td>\n",
       "      <td>NaN</td>\n",
       "      <td>44</td>\n",
       "      <td>11.00</td>\n",
       "      <td>0.036</td>\n",
       "      <td>0</td>\n",
       "      <td>82</td>\n",
       "      <td>0</td>\n",
       "      <td>0</td>\n",
       "      <td>0</td>\n",
       "      <td>...</td>\n",
       "      <td>13.88</td>\n",
       "      <td>0</td>\n",
       "      <td>0</td>\n",
       "      <td>9.07</td>\n",
       "      <td>1101</td>\n",
       "      <td>190.13</td>\n",
       "      <td>8.88</td>\n",
       "      <td>4.38</td>\n",
       "      <td>2023-10-28T21:00:00Z</td>\n",
       "      <td>Madrid, Comunidad de Madrid, España</td>\n",
       "    </tr>\n",
       "    <tr>\n",
       "      <th>2</th>\n",
       "      <td>0.38</td>\n",
       "      <td>0.38</td>\n",
       "      <td>75</td>\n",
       "      <td>10.88</td>\n",
       "      <td>0.036</td>\n",
       "      <td>0</td>\n",
       "      <td>82</td>\n",
       "      <td>0</td>\n",
       "      <td>0</td>\n",
       "      <td>0</td>\n",
       "      <td>...</td>\n",
       "      <td>13.88</td>\n",
       "      <td>0</td>\n",
       "      <td>0</td>\n",
       "      <td>10.24</td>\n",
       "      <td>1001</td>\n",
       "      <td>179.00</td>\n",
       "      <td>8.81</td>\n",
       "      <td>4.38</td>\n",
       "      <td>2023-10-28T22:00:00Z</td>\n",
       "      <td>Madrid, Comunidad de Madrid, España</td>\n",
       "    </tr>\n",
       "    <tr>\n",
       "      <th>3</th>\n",
       "      <td>0.13</td>\n",
       "      <td>0.13</td>\n",
       "      <td>75</td>\n",
       "      <td>11.88</td>\n",
       "      <td>0.034</td>\n",
       "      <td>0</td>\n",
       "      <td>93</td>\n",
       "      <td>0</td>\n",
       "      <td>0</td>\n",
       "      <td>0</td>\n",
       "      <td>...</td>\n",
       "      <td>13.00</td>\n",
       "      <td>0</td>\n",
       "      <td>0</td>\n",
       "      <td>13.42</td>\n",
       "      <td>1001</td>\n",
       "      <td>239.50</td>\n",
       "      <td>10.50</td>\n",
       "      <td>4.13</td>\n",
       "      <td>2023-10-28T23:00:00Z</td>\n",
       "      <td>Madrid, Comunidad de Madrid, España</td>\n",
       "    </tr>\n",
       "    <tr>\n",
       "      <th>4</th>\n",
       "      <td>0.13</td>\n",
       "      <td>0.13</td>\n",
       "      <td>75</td>\n",
       "      <td>11.88</td>\n",
       "      <td>0.032</td>\n",
       "      <td>0</td>\n",
       "      <td>93</td>\n",
       "      <td>0</td>\n",
       "      <td>0</td>\n",
       "      <td>0</td>\n",
       "      <td>...</td>\n",
       "      <td>13.00</td>\n",
       "      <td>0</td>\n",
       "      <td>0</td>\n",
       "      <td>9.99</td>\n",
       "      <td>1001</td>\n",
       "      <td>198.13</td>\n",
       "      <td>11.38</td>\n",
       "      <td>4.81</td>\n",
       "      <td>2023-10-29T00:00:00Z</td>\n",
       "      <td>Madrid, Comunidad de Madrid, España</td>\n",
       "    </tr>\n",
       "  </tbody>\n",
       "</table>\n",
       "<p>5 rows × 31 columns</p>\n",
       "</div>"
      ],
      "text/plain": [
       "   cloudBase  cloudCeiling  cloudCover  dewPoint  evapotranspiration  \\\n",
       "0       0.37           NaN          48     11.00               0.039   \n",
       "1       0.37           NaN          44     11.00               0.036   \n",
       "2       0.38          0.38          75     10.88               0.036   \n",
       "3       0.13          0.13          75     11.88               0.034   \n",
       "4       0.13          0.13          75     11.88               0.032   \n",
       "\n",
       "   freezingRainIntensity  humidity  iceAccumulation  iceAccumulationLwe  \\\n",
       "0                      0        82                0                   0   \n",
       "1                      0        82                0                   0   \n",
       "2                      0        82                0                   0   \n",
       "3                      0        93                0                   0   \n",
       "4                      0        93                0                   0   \n",
       "\n",
       "   precipitationProbability  ...  temperatureApparent  uvHealthConcern  \\\n",
       "0                         0  ...                13.88                0   \n",
       "1                         0  ...                13.88                0   \n",
       "2                         0  ...                13.88                0   \n",
       "3                         0  ...                13.00                0   \n",
       "4                         0  ...                13.00                0   \n",
       "\n",
       "   uvIndex  visibility  weatherCode  windDirection  windGust  windSpeed  \\\n",
       "0        0        9.99         1101         199.63      9.13       4.63   \n",
       "1        0        9.07         1101         190.13      8.88       4.38   \n",
       "2        0       10.24         1001         179.00      8.81       4.38   \n",
       "3        0       13.42         1001         239.50     10.50       4.13   \n",
       "4        0        9.99         1001         198.13     11.38       4.81   \n",
       "\n",
       "                   time                             location  \n",
       "0  2023-10-28T20:00:00Z  Madrid, Comunidad de Madrid, España  \n",
       "1  2023-10-28T21:00:00Z  Madrid, Comunidad de Madrid, España  \n",
       "2  2023-10-28T22:00:00Z  Madrid, Comunidad de Madrid, España  \n",
       "3  2023-10-28T23:00:00Z  Madrid, Comunidad de Madrid, España  \n",
       "4  2023-10-29T00:00:00Z  Madrid, Comunidad de Madrid, España  \n",
       "\n",
       "[5 rows x 31 columns]"
      ]
     },
     "execution_count": 18,
     "metadata": {},
     "output_type": "execute_result"
    }
   ],
   "source": [
    "df = get_responses_into_df(data)\n",
    "df.head()"
   ]
  },
  {
   "cell_type": "markdown",
   "id": "d3fb564c",
   "metadata": {},
   "source": [
    "# Save the dataframe into the data folder. "
   ]
  },
  {
   "cell_type": "markdown",
   "id": "2b334e3d",
   "metadata": {},
   "source": [
    "Make sure you don't get that unnamed: 0 column. Hint: https://stackoverflow.com/questions/36519086/how-to-get-rid-of-unnamed-0-column-in-a-pandas-dataframe-read-in-from-csv-fil"
   ]
  },
  {
   "cell_type": "code",
   "execution_count": 21,
   "id": "ca21a372",
   "metadata": {},
   "outputs": [],
   "source": [
    "df.to_csv('../data/madrid_forecast.csv', index = False)"
   ]
  },
  {
   "cell_type": "code",
   "execution_count": null,
   "id": "33358f05",
   "metadata": {},
   "outputs": [],
   "source": []
  }
 ],
 "metadata": {
  "kernelspec": {
   "display_name": "ironhack",
   "language": "python",
   "name": "python3"
  },
  "language_info": {
   "codemirror_mode": {
    "name": "ipython",
    "version": 3
   },
   "file_extension": ".py",
   "mimetype": "text/x-python",
   "name": "python",
   "nbconvert_exporter": "python",
   "pygments_lexer": "ipython3",
   "version": "3.11.5"
  },
  "nbTranslate": {
   "displayLangs": [
    "en",
    "es"
   ],
   "hotkey": "alt-a",
   "langInMainMenu": true,
   "sourceLang": "es",
   "targetLang": "en",
   "useGoogleTranslate": true
  },
  "toc": {
   "base_numbering": 1,
   "nav_menu": {},
   "number_sections": true,
   "sideBar": true,
   "skip_h1_title": false,
   "title_cell": "Table of Contents",
   "title_sidebar": "Contents",
   "toc_cell": false,
   "toc_position": {},
   "toc_section_display": true,
   "toc_window_display": false
  }
 },
 "nbformat": 4,
 "nbformat_minor": 5
}
